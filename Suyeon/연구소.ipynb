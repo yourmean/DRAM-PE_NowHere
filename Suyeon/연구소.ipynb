{
 "cells": [
  {
   "cell_type": "markdown",
   "metadata": {},
   "source": [
    "연구소 크기 N*M 직사각형이고 직사각형은 1*1 의 정사각형으로 나뉘어져있음 \n",
    "빈칸과 벽으로 이루어져있으며 일부 칸에 바이러스가 있고 바이러스는 상하좌우 인접한 빈 칸으로 퍼져나감\n",
    "세울 수 있는 벽의 개수는 3개 꼭 3개를 세워야함 \n",
    "0은 빈칸 1은 벽 2는 바이러스 \n",
    "\n",
    "**연구소의 지도가 주어졌을 때 1) 벽을 세우고 2) 바이러스가 퍼졌을 때 안전영역의 최댓값을 구하는 문제  "
   ]
  },
  {
   "cell_type": "markdown",
   "metadata": {},
   "source": [
    "가능한 벽 조합을 모두 검토해봐야하나 너무 많음 \n",
    "따라서 DFS/BFS 사용해야함 \n",
    "매번 안전영역을 구해서 비교해야함 \n",
    "\n",
    "Idea \n",
    "\n",
    "1. 일단 가능한 벽(1) 3개의 조합을 다 따져본다\n",
    "2. 바이러스(2)가 퍼졌을 때 상태를 만든다\n",
    "3. 안전영역(0)의 수를 센다 \n",
    "\n"
   ]
  },
  {
   "cell_type": "code",
   "execution_count": 2,
   "metadata": {},
   "outputs": [
    {
     "name": "stdout",
     "output_type": "stream",
     "text": [
      "4 6\n",
      "0 0 0 0 0 0 \n",
      "1 0 0 0 0 2\n",
      "1 1 1 0 0 2\n",
      "0 0 0 0 0 2\n"
     ]
    }
   ],
   "source": [
    "#map 크기 받음 (nXm)\n",
    "n, m = map(int, input().split())\n",
    "\n",
    "data = [] #초기 map list\n",
    "temp = [[0]*m for _ in range(n)] #벽을 설치한 뒤의 map list \n",
    "\n",
    "#초기 맵을 받는다 \n",
    "\n",
    "for _ in range(n):\n",
    "    data.append(list(map(int, input().split()))) \n",
    "    \n",
    "    \n",
    "    "
   ]
  },
  {
   "cell_type": "code",
   "execution_count": 3,
   "metadata": {},
   "outputs": [],
   "source": [
    "#상하좌우 이동방향 리스트 만들어주기 \n",
    "dx = [-1,0,1,0]\n",
    "dy = [0,1,0,-1]\n",
    "\n",
    "result = 0"
   ]
  },
  {
   "cell_type": "code",
   "execution_count": 4,
   "metadata": {},
   "outputs": [],
   "source": [
    "#DFS를 이용하여 각 바이러스가 퍼지도록 하는 함수 \n",
    "def virus(x,y):\n",
    "    for i in range(4):\n",
    "        nx = x+dx[i]\n",
    "        ny = y+dy[i]\n",
    "        \n",
    "        #상하좌우 중 바이러스가 퍼질 수 있는 경우 \n",
    "        if nx >= 0 and nx < n and ny >= 0 and ny < m:\n",
    "            if temp[nx][ny] == 0:\n",
    "                #해당 위치에 바이러스 배치하고 재귀적으로 수행하게 함.. 새로운 좌표 (nx,ny)에서 또 virus 수행  \n",
    "                temp[nx][ny] = 2 \n",
    "                virus(nx,ny)"
   ]
  },
  {
   "cell_type": "code",
   "execution_count": 5,
   "metadata": {},
   "outputs": [],
   "source": [
    "#temp map의 안전영역 계산하는 함수 \n",
    "def get_score():\n",
    "    score = 0\n",
    "    for i in range(n):\n",
    "        for j in range(m):\n",
    "            if temp[i][j]==0:\n",
    "                score += 1\n",
    "    return score\n"
   ]
  },
  {
   "cell_type": "code",
   "execution_count": 6,
   "metadata": {},
   "outputs": [
    {
     "name": "stdout",
     "output_type": "stream",
     "text": [
      "9\n"
     ]
    }
   ],
   "source": [
    "#이제 벽을 설치하면서 그 때마다 안전영역 크기 score을 계산 구현 \n",
    "\n",
    "def dfs(count):\n",
    "    global result \n",
    "    #울타리가 3개 다 설치완료 된 경우에 바이러스 전파파고 안전영역 최댓값 구하는 함수\n",
    "    if count == 3:\n",
    "        for i in range(n):\n",
    "            for j in range(m):\n",
    "                temp[i][j] = data[i][j]\n",
    "        #각 바이러스 위치해서 바이러스 전파 진행\n",
    "        for i in range(n):\n",
    "            for j in range(m):\n",
    "                if temp[i][j] == 2: #바이러스(2)인 위치에서 전파 시작\n",
    "                    virus(i,j)\n",
    "        #안전영역의 최댓값 계산(다 구할 필요 없고 max값만)\n",
    "        result = max(result, get_score())\n",
    "        return\n",
    "    \n",
    "    #빈공간에 울타리 설치 \n",
    "    for i in range(n):\n",
    "        for j in range(m):\n",
    "            if data[i][j] == 0:\n",
    "                data[i][j] = 1\n",
    "                count += 1\n",
    "                dfs(count) #안전값 구함 \n",
    "                data[i][j] = 0\n",
    "                count -= 1\n",
    "                \n",
    "dfs(0)\n",
    "print(result)\n",
    "                \n",
    "        \n",
    "        "
   ]
  }
 ],
 "metadata": {
  "kernelspec": {
   "display_name": "Python 3",
   "language": "python",
   "name": "python3"
  },
  "language_info": {
   "codemirror_mode": {
    "name": "ipython",
    "version": 3
   },
   "file_extension": ".py",
   "mimetype": "text/x-python",
   "name": "python",
   "nbconvert_exporter": "python",
   "pygments_lexer": "ipython3",
   "version": "3.7.4"
  }
 },
 "nbformat": 4,
 "nbformat_minor": 2
}
