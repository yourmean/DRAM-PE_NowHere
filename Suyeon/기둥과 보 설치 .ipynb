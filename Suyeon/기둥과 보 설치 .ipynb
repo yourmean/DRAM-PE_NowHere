{
 "cells": [
  {
   "cell_type": "code",
   "execution_count": 2,
   "id": "2d3b4058",
   "metadata": {},
   "outputs": [],
   "source": [
    "def possible(answer):\n",
    "    for x, y, s in answer:\n",
    "        if s == 0: #기둥이 설치되었을 때\n",
    "            #바닥 위거나 보의 한쪽 끝 부분 위, 다른 기둥 위면 정상\n",
    "            if y == 0 or [x-1,y,1] in answer or [x,y,1] in answer or [x,y-1,0] in answer:\n",
    "                continue \n",
    "            return False #아니라면 False 반환\n",
    "        elif s == 1: #설치된 것이 보인 경우 \n",
    "            #한쪽 끝 부분이 기둥 위거나 양쪽 끝부분이 다른 보와 동시에 연결이라면 정상 \n",
    "            if [x,y-1,0] in answer or [x+1,y-1,0] in answer or ([x-1,y,1] in answer and [x+1,y,1] in answer):\n",
    "                continue\n",
    "            return False\n",
    "        return True \n",
    "\n",
    "def solution(n,build_frame):\n",
    "    answer = []\n",
    "    for frame in build_frame:\n",
    "        x,y,s,operate = frame \n",
    "        if operate == 0:\n",
    "            answer.remove([x,y,s])\n",
    "            if not possible(answer):\n",
    "                answer.append([x,y,s])\n",
    "        if operate == 1:\n",
    "            answer.append([x,y,s])\n",
    "            if not possible(answer):\n",
    "                answer.remove([x,y,s])\n",
    "    return sorted(answer)\n",
    "\n"
   ]
  },
  {
   "cell_type": "code",
   "execution_count": null,
   "id": "5b08680b",
   "metadata": {},
   "outputs": [],
   "source": []
  }
 ],
 "metadata": {
  "kernelspec": {
   "display_name": "Python 3 (ipykernel)",
   "language": "python",
   "name": "python3"
  },
  "language_info": {
   "codemirror_mode": {
    "name": "ipython",
    "version": 3
   },
   "file_extension": ".py",
   "mimetype": "text/x-python",
   "name": "python",
   "nbconvert_exporter": "python",
   "pygments_lexer": "ipython3",
   "version": "3.9.10"
  }
 },
 "nbformat": 4,
 "nbformat_minor": 5
}
