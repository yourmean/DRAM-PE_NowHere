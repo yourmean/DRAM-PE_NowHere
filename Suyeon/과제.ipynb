{
 "cells": [
  {
   "cell_type": "markdown",
   "id": "2e86b1b0",
   "metadata": {},
   "source": [
    "과제 갯수: N개 (1,1000)\n",
    "과제 마감일: d\n",
    "과제 점수:w\n",
    "\n",
    "하루에 과제 하나씩 끝낼 수 있음"
   ]
  },
  {
   "cell_type": "code",
   "execution_count": 5,
   "id": "f9521f4f",
   "metadata": {},
   "outputs": [
    {
     "name": "stdout",
     "output_type": "stream",
     "text": [
      "7\n",
      "4 60\n",
      "4 40\n",
      "1 20\n",
      "2 50\n",
      "3 30\n",
      "4 10\n",
      "6 5\n",
      "185\n"
     ]
    }
   ],
   "source": [
    "N = int(input())\n",
    "list = []\n",
    "\n",
    "for i in range(N):\n",
    "    d, w = input().split()\n",
    "    d = int(d)\n",
    "    w = int(w)\n",
    "    list.append((d,w))\n",
    "\n",
    "#일단 과제 리스트 소팅하기.. \n",
    "list.sort()\n",
    "#과제점수 누적합\n",
    "score = 0\n",
    "#그 날 수행할 수 있는 과제 리스트 (마감일 없이 과제점수만 받겠음)\n",
    "day_list = []\n",
    "#마감이 가장 늦은 날 \n",
    "last_d = list[-1][0]\n",
    "\n",
    "#last_d ->> day 1으로 i번째 수행할 최대 과제 점수 누적\n",
    "for i in range (last_d, 0, -1):\n",
    "    while list: #과제가 계속 남아있다면\n",
    "        if list[-1][0] >= i: #남은 과제중에 현재 i번째 날보다 늦거나 같은 게 있으면\n",
    "            day_list.append(list.pop()[1]) #그 날 수행할 수 있는 과제에 추가(점수만)\n",
    "        else:\n",
    "            break \n",
    "    if day_list: #그 날 할 수 있는 과제들 중에 점수 젤 큰 애를 수행\n",
    "        day_list.sort()\n",
    "        score += day_list.pop()\n",
    "    \n",
    "print(score)\n"
   ]
  },
  {
   "cell_type": "code",
   "execution_count": 6,
   "id": "887ec326",
   "metadata": {},
   "outputs": [
    {
     "name": "stdout",
     "output_type": "stream",
     "text": [
      "7\n",
      "4 60\n",
      "4 40\n",
      "1 20\n",
      "2 50\n",
      "3 30\n",
      "4 10\n",
      "6 5\n",
      "250\n"
     ]
    }
   ],
   "source": [
    "N = int(input())\n",
    "list = []\n",
    "\n",
    "for i in range(N):\n",
    "    d, w = input().split()\n",
    "    d = int(d)\n",
    "    w = int(w)\n",
    "    list.append((d,w))\n",
    "\n",
    "#일단 과제 리스트 소팅하기.. \n",
    "list.sort()\n",
    "#과제점수 누적합\n",
    "score = 0\n",
    "#그 날 수행할 수 있는 과제 리스트 (마감일 없이 과제점수만 받겠음)\n",
    "day_list = []\n",
    "#마감이 가장 늦은 날 \n",
    "last_d = list[-1][0]\n",
    "\n",
    "#last_d ->> day 1으로 i번째 수행할 최대 과제 점수 누적\n",
    "for i in range (last_d, 0, -1):\n",
    "    while list: #과제가 계속 남아있다면\n",
    "        if list[-1][0] >= i: #남은 과제중에 현재 i번째 날보다 늦거나 같은 게 있으면\n",
    "            day_list.append(list.pop()[1]) #그 날 수행할 수 있는 과제에 추가(점수만)\n",
    "        else:\n",
    "            break \n",
    "    if day_list: #그 날 할 수 있는 과제들 중에 점수 젤 큰 애를 수행\n",
    "        score += max(day_list) #꺼내지지않고 남아있어서 중복계산됨 \n",
    "    \n",
    "print(score)"
   ]
  },
  {
   "cell_type": "code",
   "execution_count": null,
   "id": "07bab4af",
   "metadata": {},
   "outputs": [],
   "source": []
  }
 ],
 "metadata": {
  "kernelspec": {
   "display_name": "Python 3 (ipykernel)",
   "language": "python",
   "name": "python3"
  },
  "language_info": {
   "codemirror_mode": {
    "name": "ipython",
    "version": 3
   },
   "file_extension": ".py",
   "mimetype": "text/x-python",
   "name": "python",
   "nbconvert_exporter": "python",
   "pygments_lexer": "ipython3",
   "version": "3.9.10"
  }
 },
 "nbformat": 4,
 "nbformat_minor": 5
}
