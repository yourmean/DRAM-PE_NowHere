{
 "cells": [
  {
   "cell_type": "markdown",
   "id": "5cb48500",
   "metadata": {},
   "source": [
    "짝수자릿수의 정수 형태로 인풋을 받고 반으로 나눠 각 자릿수 합이 일치하면 LUCKY"
   ]
  },
  {
   "cell_type": "code",
   "execution_count": 14,
   "id": "6ca615b6",
   "metadata": {},
   "outputs": [
    {
     "name": "stdout",
     "output_type": "stream",
     "text": [
      "123123\n"
     ]
    },
    {
     "ename": "TypeError",
     "evalue": "'int' object is not callable",
     "output_type": "error",
     "traceback": [
      "\u001b[1;31m---------------------------------------------------------------------------\u001b[0m",
      "\u001b[1;31mTypeError\u001b[0m                                 Traceback (most recent call last)",
      "Cell \u001b[1;32mIn [14], line 2\u001b[0m\n\u001b[0;32m      1\u001b[0m n \u001b[38;5;241m=\u001b[39m \u001b[38;5;28minput\u001b[39m()\n\u001b[1;32m----> 2\u001b[0m l \u001b[38;5;241m=\u001b[39m \u001b[38;5;28;43mlen\u001b[39;49m\u001b[43m(\u001b[49m\u001b[43mn\u001b[49m\u001b[43m)\u001b[49m\n\u001b[0;32m      3\u001b[0m left \u001b[38;5;241m=\u001b[39m \u001b[38;5;241m0\u001b[39m\n\u001b[0;32m      4\u001b[0m right \u001b[38;5;241m=\u001b[39m \u001b[38;5;241m0\u001b[39m\n",
      "\u001b[1;31mTypeError\u001b[0m: 'int' object is not callable"
     ]
    }
   ],
   "source": [
    "n = input()\n",
    "l = len(n)\n",
    "left = 0\n",
    "right = 0\n",
    "\n",
    "#left\n",
    "for i in range (l//2):\n",
    "    left += int(n[i])\n",
    "\n",
    "#right \n",
    "for i in range (l//2, l):\n",
    "    right += int(n[i])\n",
    "\n",
    "if left == right: \n",
    "        print (\"LUCKY\")\n",
    "else:\n",
    "    print (\"READY\")"
   ]
  },
  {
   "cell_type": "code",
   "execution_count": 15,
   "id": "d9412e03",
   "metadata": {},
   "outputs": [
    {
     "name": "stdout",
     "output_type": "stream",
     "text": [
      "1232123\n",
      "READY\n"
     ]
    }
   ],
   "source": [
    "n = input()\n",
    "del len\n",
    "l = len(n)\n",
    "left = 0\n",
    "right = 0\n",
    "\n",
    "#left\n",
    "for i in range (l//2):\n",
    "    left += int(n[i])\n",
    "\n",
    "#right \n",
    "for i in range (l//2, l):\n",
    "    right += int(n[i])\n",
    "\n",
    "if left == right: \n",
    "        print (\"LUCKY\")\n",
    "else:\n",
    "    print (\"READY\")"
   ]
  },
  {
   "cell_type": "markdown",
   "id": "ce22f9c8",
   "metadata": {},
   "source": [
    "우선 해당 오류가 발생한 이유는 예약어를 변수명으로 사용 하였기 때문이다. 그리고 기초 프로그래밍을 공부하며 이러한 실수를 많이 할 수 있는 예약어들이 sum(), min(), max() 등이 있을 것이다.\n",
    "\n",
    "​\n",
    "\n",
    "이러한 예약어들은 각각의 기능들이 있는 함수이다. (이름만 봐도 어떤 기능인지는 짐작이 간다.)\n",
    "\n",
    "기초 프로그래밍을 하다보면 합을 구하는 문제, 최댓값, 최솟값 등을 구하는 문제들이 많이 나오는데 이 경우, 위와 같은 단어들을 변수명으로 사용하는 경우가 종종 있을 것이다. \n",
    "\n",
    "​\n",
    "\n",
    "하지만 이미 (예를들어) sum을 변수명으로 사용한 후에 sum() 함수를 다시 사용할 경우 이름의 중복으로 인해 해당 오류가 발생하게 된다."
   ]
  }
 ],
 "metadata": {
  "kernelspec": {
   "display_name": "Python 3 (ipykernel)",
   "language": "python",
   "name": "python3"
  },
  "language_info": {
   "codemirror_mode": {
    "name": "ipython",
    "version": 3
   },
   "file_extension": ".py",
   "mimetype": "text/x-python",
   "name": "python",
   "nbconvert_exporter": "python",
   "pygments_lexer": "ipython3",
   "version": "3.9.10"
  }
 },
 "nbformat": 4,
 "nbformat_minor": 5
}
