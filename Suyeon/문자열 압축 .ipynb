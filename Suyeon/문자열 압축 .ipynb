{
 "cells": [
  {
   "cell_type": "markdown",
   "id": "a776ba8d",
   "metadata": {},
   "source": [
    "문자열압축\n",
    "\n",
    "ex) aabbaccc ->  2a2ba3c\n",
    "\n",
    "목표: 문자열을 1개이상의 단위로 잘라서 압축하면 더 짧은 문자열로 표현할 수 있는가?\n",
    "ex) ababcdcd -> 2ab2cd\n",
    "\n",
    "주어진 문자열 s를 1개 이상 단위로 압축한 문자열 중 가장 짧은 것의 '길이'를 return \n",
    "단, s의 길이는 1000이하며 모두 알파벳소문자 "
   ]
  },
  {
   "cell_type": "code",
   "execution_count": 2,
   "id": "e3bfcf87",
   "metadata": {},
   "outputs": [],
   "source": [
    "#길이가 그렇게 길지 않으므로 완전탐색 가능! N자리면 1부터 N/2개 단위로 압축했을 때 결과를 다 받아서 가장 짧은 것 찾기 \n",
    "\n",
    "def solution(s):\n",
    "    answer = len(s)\n",
    "    #1개부터 N/2개까지 압축단위를 늘려가면서 확인 \n",
    "    for step in range(1, len(s)//2 +1):\n",
    "        compressed = \"\"\n",
    "        prev = s[0:step]\n",
    "        count = 1\n",
    "        #단위크기만큼 증가시키며 이전 문자열과 비교 \n",
    "        for j in range(step,len(s),step):\n",
    "            #이전상태와 동일하다면 압축횟수 증가 \n",
    "            if prev == s[j:j+step]:\n",
    "                count += 1\n",
    "            #다른 문자열이 나와서 더이상 압축이 안되면 \n",
    "            else:\n",
    "                compressed += str(count)+prev if count >= 2 else prev \n",
    "                prev = s[j:j+step] #상태 초기화 \n",
    "                count = 1 \n",
    "        #남은 문자열 처리 \n",
    "        compressed += str(count)+prev if count >= 2 else prev \n",
    "        #가장 짧은 것이 정답\n",
    "        answer = min(answer, len(compressed))\n",
    "    return answer \n"
   ]
  },
  {
   "cell_type": "code",
   "execution_count": 3,
   "id": "7e2a0fba",
   "metadata": {},
   "outputs": [
    {
     "name": "stdout",
     "output_type": "stream",
     "text": [
      "aaaabbbb\n",
      "4\n"
     ]
    }
   ],
   "source": [
    "s = input()\n",
    "print(solution(s))"
   ]
  },
  {
   "cell_type": "code",
   "execution_count": null,
   "id": "06ca1ac8",
   "metadata": {},
   "outputs": [],
   "source": []
  }
 ],
 "metadata": {
  "kernelspec": {
   "display_name": "Python 3 (ipykernel)",
   "language": "python",
   "name": "python3"
  },
  "language_info": {
   "codemirror_mode": {
    "name": "ipython",
    "version": 3
   },
   "file_extension": ".py",
   "mimetype": "text/x-python",
   "name": "python",
   "nbconvert_exporter": "python",
   "pygments_lexer": "ipython3",
   "version": "3.9.10"
  }
 },
 "nbformat": 4,
 "nbformat_minor": 5
}
