{
 "cells": [
  {
   "cell_type": "markdown",
   "id": "fc33dbfc",
   "metadata": {},
   "source": [
    "서류, 면접 중 적어도 하나가 다른 지원자보다 떨어지지 않아야 선발 \n",
    "서류 면접 다 밀리면 절대 안 뽑음\n",
    "->>\n",
    "지원자 A가 뽑힐려면\n",
    "1) A보다 서류를 잘 본 사람들보다 A가 면접점수가 높아야 함\n",
    "2) A보다 서류를 잘 본 사람들 중 면접 Max로 잘 본 사람의 점수 << A의 면접점수\n",
    "3) 모든 사람이랑 비교할 핗요X\n",
    "\n",
    "\n",
    "최대로 뽑을 수 있는 신입사원 수 \n",
    "\n",
    "T: 테스트 케이스 갯수 (1,20)\n",
    "N: 각 테스트 케이스의 첫째줄에 지원자 숫자 N\n",
    "둘째줄 부터는 서류 순위, 면접 순위 가 공백으로 쓰여짐 (한 줄에)\n",
    "동석차 없음\n",
    "\n"
   ]
  },
  {
   "cell_type": "code",
   "execution_count": 16,
   "id": "a17cc7e1",
   "metadata": {},
   "outputs": [
    {
     "ename": "TypeError",
     "evalue": "'list' object is not callable",
     "output_type": "error",
     "traceback": [
      "\u001b[1;31m---------------------------------------------------------------------------\u001b[0m",
      "\u001b[1;31mTypeError\u001b[0m                                 Traceback (most recent call last)",
      "Cell \u001b[1;32mIn [16], line 6\u001b[0m\n\u001b[0;32m      2\u001b[0m \u001b[38;5;28minput\u001b[39m \u001b[38;5;241m=\u001b[39m sys\u001b[38;5;241m.\u001b[39mstdin\u001b[38;5;241m.\u001b[39mreadline()\u001b[38;5;241m.\u001b[39msplit(\u001b[38;5;124m'\u001b[39m\u001b[38;5;124m \u001b[39m\u001b[38;5;124m'\u001b[39m) \u001b[38;5;66;03m#https://oneshottenkill.tistory.com/62\u001b[39;00m\n\u001b[0;32m      5\u001b[0m \u001b[38;5;66;03m#테스트 갯수 받기 \u001b[39;00m\n\u001b[1;32m----> 6\u001b[0m t \u001b[38;5;241m=\u001b[39m \u001b[38;5;28mint\u001b[39m(\u001b[38;5;28;43minput\u001b[39;49m\u001b[43m(\u001b[49m\u001b[43m)\u001b[49m)\n\u001b[0;32m      8\u001b[0m \u001b[38;5;28;01mfor\u001b[39;00m i \u001b[38;5;129;01min\u001b[39;00m \u001b[38;5;28mrange\u001b[39m(t):\n\u001b[0;32m      9\u001b[0m     N \u001b[38;5;241m=\u001b[39m \u001b[38;5;28mint\u001b[39m(\u001b[38;5;28minput\u001b[39m()) \u001b[38;5;66;03m#지원자 수 받기 \u001b[39;00m\n",
      "\u001b[1;31mTypeError\u001b[0m: 'list' object is not callable"
     ]
    }
   ],
   "source": [
    "import sys\n",
    "input = sys.stdin.readline().split(' ') #https://oneshottenkill.tistory.com/62\n",
    "\n",
    "\n",
    "#테스트 갯수 받기 \n",
    "t = int(input())\n",
    "\n",
    "for i in range(t):\n",
    "    N = int(input()) #지원자 수 받기 \n",
    "    app_list = [0]*N\n",
    "    for j in range(N):\n",
    "        s, m = map(int,inpit().split()) #각 지원자의 서류, 면접 순위 받기 \n",
    "        app_list[j] = [s, m] #지원자 리스트에 추가해준당 \n",
    "    app_list.sort() #지원자 리스트 소팅\n",
    "    min_rank = app_list[0][1] #제일 우수한 지원자 \n",
    "    cnt = 1 #1등 뽑고 \n",
    "    for k in range(N): \n",
    "        rank = app_list[k][1]\n",
    "        if rank < min_rank: #이미 뽑힌 사람들보다 면접순위가 낮다면(더 좋다는 뜻)\n",
    "            min_rank = rank #min rank 갱신하고\n",
    "            cnt += 1 #선발인원 추가 \n",
    "print(cnt)"
   ]
  },
  {
   "cell_type": "code",
   "execution_count": null,
   "id": "f3c4ddff",
   "metadata": {},
   "outputs": [],
   "source": []
  }
 ],
 "metadata": {
  "kernelspec": {
   "display_name": "Python 3 (ipykernel)",
   "language": "python",
   "name": "python3"
  },
  "language_info": {
   "codemirror_mode": {
    "name": "ipython",
    "version": 3
   },
   "file_extension": ".py",
   "mimetype": "text/x-python",
   "name": "python",
   "nbconvert_exporter": "python",
   "pygments_lexer": "ipython3",
   "version": "3.9.10"
  }
 },
 "nbformat": 4,
 "nbformat_minor": 5
}
