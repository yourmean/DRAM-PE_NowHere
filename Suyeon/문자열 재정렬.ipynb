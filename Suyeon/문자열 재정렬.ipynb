{
 "cells": [
  {
   "cell_type": "markdown",
   "id": "7c13b57a",
   "metadata": {},
   "source": [
    "알파벳 대문자와 숫자로만 구성된 문자열이 인풋 \n",
    "- 알파벳은 모두 오름차순\n",
    "- 문자 뒤에 숫자를 더한 값을 이어서 출력\n",
    "\n",
    "예)\n",
    "K1KA5CB7\n",
    "ABCKK13"
   ]
  },
  {
   "cell_type": "code",
   "execution_count": 9,
   "id": "8385d1ea",
   "metadata": {},
   "outputs": [
    {
     "name": "stdout",
     "output_type": "stream",
     "text": [
      "K1KA5CB7\n",
      "['A', 'B', 'C', 'K', 'K', '13']\n",
      "ABCKK13\n",
      "ABCKK13\n"
     ]
    }
   ],
   "source": [
    "data = input()\n",
    "#우선 리스트 형태로 결과값 만들거임\n",
    "result = []\n",
    "value = 0\n",
    "\n",
    "#input 확인하기 \n",
    "for x in data:\n",
    "    #문자 확인은 isalpha 활용\n",
    "    if x.isalpha():\n",
    "        result.append(x)\n",
    "    else:\n",
    "        #value += x -> 알파벳이 아니라고 다 숫자형은 아니니,, int처리해주기\n",
    "        value += int(x)\n",
    "\n",
    "#오름차순 정렬하기 \n",
    "result.sort()\n",
    "\n",
    "#숫자 삽입해주기 (문자열 형태로!)\n",
    "if value != 0:\n",
    "    result.append(str(value))\n",
    "\n",
    "print(result)\n",
    "\n",
    "#문자열로 바꾸고 싶다면\n",
    "def ListToString(str_list):\n",
    "    result = \"\"\n",
    "    for s in str_list:\n",
    "        result += s + \"\"\n",
    "    return result.strip()\n",
    "strresult = ListToString(result)\n",
    "print(strresult)\n",
    "\n",
    "print (''.join(result))\n"
   ]
  },
  {
   "cell_type": "code",
   "execution_count": null,
   "id": "5723de36",
   "metadata": {},
   "outputs": [],
   "source": []
  }
 ],
 "metadata": {
  "kernelspec": {
   "display_name": "Python 3 (ipykernel)",
   "language": "python",
   "name": "python3"
  },
  "language_info": {
   "codemirror_mode": {
    "name": "ipython",
    "version": 3
   },
   "file_extension": ".py",
   "mimetype": "text/x-python",
   "name": "python",
   "nbconvert_exporter": "python",
   "pygments_lexer": "ipython3",
   "version": "3.9.10"
  }
 },
 "nbformat": 4,
 "nbformat_minor": 5
}
