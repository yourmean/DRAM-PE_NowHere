{
 "cells": [
  {
   "cell_type": "code",
   "execution_count": 122,
   "id": "f9cd1a94",
   "metadata": {},
   "outputs": [
    {
     "name": "stdout",
     "output_type": "stream",
     "text": [
      "4 5\n"
     ]
    }
   ],
   "source": [
    "n, m = map(int, input().split())\n",
    "data = []   # 초기 맵 리스트\n",
    "temp = [[0] * m for _ in range(n)]   # 벽을 설치한 뒤의 맵 리스트"
   ]
  },
  {
   "cell_type": "code",
   "execution_count": 123,
   "id": "228d7c15",
   "metadata": {},
   "outputs": [
    {
     "name": "stdout",
     "output_type": "stream",
     "text": [
      "[[0, 0, 0, 0, 0], [0, 0, 0, 0, 0], [0, 0, 0, 0, 0], [0, 0, 0, 0, 0]]\n"
     ]
    }
   ],
   "source": [
    "# temp 형태 확인\n",
    "print(temp)"
   ]
  },
  {
   "cell_type": "code",
   "execution_count": 145,
   "id": "ab3f27f5",
   "metadata": {},
   "outputs": [
    {
     "name": "stdout",
     "output_type": "stream",
     "text": [
      "0 0 0 0 0 0\n",
      "0 0 0 0 0 0\n",
      "2 1 0 0 0 0\n",
      "1 0 0 0 0 0\n"
     ]
    }
   ],
   "source": [
    "for _ in range(n):\n",
    "    data.append(list(map(int, input().split())))"
   ]
  },
  {
   "cell_type": "code",
   "execution_count": 146,
   "id": "8ac24c52",
   "metadata": {},
   "outputs": [
    {
     "data": {
      "text/plain": [
       "[[0, 0, 0, 0, 0, 0],\n",
       " [0, 0, 0, 0, 0, 0],\n",
       " [2, 1, 0, 0, 0, 0],\n",
       " [1, 0, 0, 0, 0, 0]]"
      ]
     },
     "execution_count": 146,
     "metadata": {},
     "output_type": "execute_result"
    }
   ],
   "source": [
    "# data 형태 확인\n",
    "data"
   ]
  },
  {
   "cell_type": "code",
   "execution_count": 109,
   "id": "7778fb34",
   "metadata": {},
   "outputs": [],
   "source": [
    "# 4가지 이동 방향에 대한 리스트\n",
    "dx = [-1, 0, 1, 0]\n",
    "dy = [0, 1, 0, -1]"
   ]
  },
  {
   "cell_type": "code",
   "execution_count": 110,
   "id": "363f54bf",
   "metadata": {},
   "outputs": [],
   "source": [
    "result = 0"
   ]
  },
  {
   "cell_type": "code",
   "execution_count": 111,
   "id": "a87a2b98",
   "metadata": {},
   "outputs": [],
   "source": [
    "# 깊이 우선 탐색(DFS)을 이용해 각 바이러스가 사방으로 퍼지도록 하기\n",
    "def virus(x, y):\n",
    "    for i in range(4):\n",
    "        nx = x + dx[i]\n",
    "        ny = y + dy[i]\n",
    "        # 상, 하, 좌, 우 중에서 바이러스가 퍼질 수 있는 경우\n",
    "        if nx >= 0 and nx < n and ny >= 0 and ny < m:\n",
    "            if temp[nx][ny] == 0:\n",
    "                # 해당 위치에 바이러스 배치하고, 다시 재귀적으로 수행\n",
    "                temp[nx][ny] = 2\n",
    "                virus(nx, ny)"
   ]
  },
  {
   "cell_type": "code",
   "execution_count": 130,
   "id": "d7dbed9d",
   "metadata": {},
   "outputs": [],
   "source": [
    "virus(1,1)   # (1,1) 위치에 virus가 존재하는거??"
   ]
  },
  {
   "cell_type": "code",
   "execution_count": 131,
   "id": "4965d794",
   "metadata": {},
   "outputs": [
    {
     "data": {
      "text/plain": [
       "[[2, 2, 2, 2, 2], [2, 2, 2, 2, 2], [2, 2, 2, 2, 2], [2, 2, 2, 2, 2]]"
      ]
     },
     "execution_count": 131,
     "metadata": {},
     "output_type": "execute_result"
    }
   ],
   "source": [
    "temp  # (1,1) 위치에서 사방으로 다 퍼진거??"
   ]
  },
  {
   "cell_type": "code",
   "execution_count": 132,
   "id": "c5c31a09",
   "metadata": {},
   "outputs": [],
   "source": [
    "# 현재 맵에서 안전 영역의 크기 계산하는 메서드\n",
    "def get_score():\n",
    "    score = 0\n",
    "    for i in range(n):\n",
    "        for j in range(m):\n",
    "            if temp[i][j] == 0:\n",
    "                score += 1\n",
    "    return score"
   ]
  },
  {
   "cell_type": "code",
   "execution_count": 155,
   "id": "90db4190",
   "metadata": {},
   "outputs": [
    {
     "data": {
      "text/plain": [
       "0"
      ]
     },
     "execution_count": 155,
     "metadata": {},
     "output_type": "execute_result"
    }
   ],
   "source": [
    "get_score()"
   ]
  },
  {
   "cell_type": "code",
   "execution_count": 148,
   "id": "0328c47f",
   "metadata": {},
   "outputs": [],
   "source": [
    "# 깊이 우선 탐색(DFS)을 이용해 울타리를 설치하면서, 매번 안전 영역의 크기 계산\n",
    "def dfs(count):\n",
    "    global result\n",
    "    if count == 3:\n",
    "        # Case1. 울타리가 3개 설치된 경우\n",
    "        for i in range(n):\n",
    "            for j in range(m):\n",
    "                temp[i][j] = data[i][j]\n",
    "            # 각 바이러스의 위치에서 전파 진행\n",
    "            for i in range(n):\n",
    "                for j in range(m):\n",
    "                    if temp[i][j] == 2:\n",
    "                        virus(i, j)\n",
    "            # 안전 영역의 최댓값 계산\n",
    "            result = max(result, get_score())\n",
    "            return\n",
    "        # Case2. 빈 공간에 울타리 설치\n",
    "        for i in range(n):\n",
    "            for j in range(m):\n",
    "                if data[i][j] == 0:\n",
    "                    data[i][j] = 1\n",
    "                    count += 1\n",
    "                    dfs(count)\n",
    "                    data[i][j] = 0\n",
    "                    count -= 1"
   ]
  },
  {
   "cell_type": "code",
   "execution_count": 154,
   "id": "6d0e39f0",
   "metadata": {},
   "outputs": [
    {
     "data": {
      "text/plain": [
       "[[0, 0, 0, 0, 0, 0],\n",
       " [0, 0, 0, 0, 0, 0],\n",
       " [2, 1, 0, 0, 0, 0],\n",
       " [1, 0, 0, 0, 0, 0]]"
      ]
     },
     "execution_count": 154,
     "metadata": {},
     "output_type": "execute_result"
    }
   ],
   "source": [
    "data"
   ]
  },
  {
   "cell_type": "code",
   "execution_count": 150,
   "id": "3c62ee2f",
   "metadata": {},
   "outputs": [
    {
     "data": {
      "text/plain": [
       "[[2, 2, 2, 2, 2], [2, 2, 2, 2, 2], [2, 2, 2, 2, 2], [2, 2, 2, 2, 2]]"
      ]
     },
     "execution_count": 150,
     "metadata": {},
     "output_type": "execute_result"
    }
   ],
   "source": [
    "temp"
   ]
  },
  {
   "cell_type": "code",
   "execution_count": 151,
   "id": "6ae8a05e",
   "metadata": {},
   "outputs": [
    {
     "name": "stdout",
     "output_type": "stream",
     "text": [
      "0\n"
     ]
    }
   ],
   "source": [
    "dfs(0)\n",
    "print(result)"
   ]
  },
  {
   "cell_type": "code",
   "execution_count": 152,
   "id": "ee2a8c7e",
   "metadata": {},
   "outputs": [
    {
     "name": "stdout",
     "output_type": "stream",
     "text": [
      "0\n"
     ]
    }
   ],
   "source": [
    "dfs(1)\n",
    "print(result)"
   ]
  },
  {
   "cell_type": "code",
   "execution_count": 153,
   "id": "3f579ae3",
   "metadata": {},
   "outputs": [
    {
     "name": "stdout",
     "output_type": "stream",
     "text": [
      "0\n"
     ]
    }
   ],
   "source": [
    "dfs(2)\n",
    "print(result)"
   ]
  },
  {
   "cell_type": "code",
   "execution_count": 140,
   "id": "cf345a15",
   "metadata": {},
   "outputs": [
    {
     "ename": "IndexError",
     "evalue": "list index out of range",
     "output_type": "error",
     "traceback": [
      "\u001b[1;31m---------------------------------------------------------------------------\u001b[0m",
      "\u001b[1;31mIndexError\u001b[0m                                Traceback (most recent call last)",
      "\u001b[1;32m~\\AppData\\Local\\Temp/ipykernel_20796/559163714.py\u001b[0m in \u001b[0;36m<module>\u001b[1;34m\u001b[0m\n\u001b[1;32m----> 1\u001b[1;33m \u001b[0mdfs\u001b[0m\u001b[1;33m(\u001b[0m\u001b[1;36m3\u001b[0m\u001b[1;33m)\u001b[0m\u001b[1;33m\u001b[0m\u001b[1;33m\u001b[0m\u001b[0m\n\u001b[0m\u001b[0;32m      2\u001b[0m \u001b[0mprint\u001b[0m\u001b[1;33m(\u001b[0m\u001b[0mresult\u001b[0m\u001b[1;33m)\u001b[0m\u001b[1;33m\u001b[0m\u001b[1;33m\u001b[0m\u001b[0m\n",
      "\u001b[1;32m~\\AppData\\Local\\Temp/ipykernel_20796/3426636950.py\u001b[0m in \u001b[0;36mdfs\u001b[1;34m(count)\u001b[0m\n\u001b[0;32m      6\u001b[0m         \u001b[1;32mfor\u001b[0m \u001b[0mi\u001b[0m \u001b[1;32min\u001b[0m \u001b[0mrange\u001b[0m\u001b[1;33m(\u001b[0m\u001b[0mn\u001b[0m\u001b[1;33m)\u001b[0m\u001b[1;33m:\u001b[0m\u001b[1;33m\u001b[0m\u001b[1;33m\u001b[0m\u001b[0m\n\u001b[0;32m      7\u001b[0m             \u001b[1;32mfor\u001b[0m \u001b[0mj\u001b[0m \u001b[1;32min\u001b[0m \u001b[0mrange\u001b[0m\u001b[1;33m(\u001b[0m\u001b[0mm\u001b[0m\u001b[1;33m)\u001b[0m\u001b[1;33m:\u001b[0m\u001b[1;33m\u001b[0m\u001b[1;33m\u001b[0m\u001b[0m\n\u001b[1;32m----> 8\u001b[1;33m                 \u001b[0mtemp\u001b[0m\u001b[1;33m[\u001b[0m\u001b[0mi\u001b[0m\u001b[1;33m]\u001b[0m\u001b[1;33m[\u001b[0m\u001b[0mj\u001b[0m\u001b[1;33m]\u001b[0m \u001b[1;33m=\u001b[0m \u001b[0mdata\u001b[0m\u001b[1;33m[\u001b[0m\u001b[0mi\u001b[0m\u001b[1;33m]\u001b[0m\u001b[1;33m[\u001b[0m\u001b[0mj\u001b[0m\u001b[1;33m]\u001b[0m\u001b[1;33m\u001b[0m\u001b[1;33m\u001b[0m\u001b[0m\n\u001b[0m\u001b[0;32m      9\u001b[0m             \u001b[1;31m# 각 바이러스의 위치에서 전파 진행\u001b[0m\u001b[1;33m\u001b[0m\u001b[1;33m\u001b[0m\u001b[1;33m\u001b[0m\u001b[0m\n\u001b[0;32m     10\u001b[0m             \u001b[1;32mfor\u001b[0m \u001b[0mi\u001b[0m \u001b[1;32min\u001b[0m \u001b[0mrange\u001b[0m\u001b[1;33m(\u001b[0m\u001b[0mn\u001b[0m\u001b[1;33m)\u001b[0m\u001b[1;33m:\u001b[0m\u001b[1;33m\u001b[0m\u001b[1;33m\u001b[0m\u001b[0m\n",
      "\u001b[1;31mIndexError\u001b[0m: list index out of range"
     ]
    }
   ],
   "source": [
    "dfs(3)\n",
    "print(result)"
   ]
  },
  {
   "cell_type": "code",
   "execution_count": 141,
   "id": "f99d9bb4",
   "metadata": {},
   "outputs": [
    {
     "name": "stdout",
     "output_type": "stream",
     "text": [
      "0\n"
     ]
    }
   ],
   "source": [
    "dfs(4)\n",
    "print(result)"
   ]
  },
  {
   "cell_type": "code",
   "execution_count": null,
   "id": "91d11c8e",
   "metadata": {},
   "outputs": [],
   "source": []
  }
 ],
 "metadata": {
  "kernelspec": {
   "display_name": "Python 3 (ipykernel)",
   "language": "python",
   "name": "python3"
  },
  "language_info": {
   "codemirror_mode": {
    "name": "ipython",
    "version": 3
   },
   "file_extension": ".py",
   "mimetype": "text/x-python",
   "name": "python",
   "nbconvert_exporter": "python",
   "pygments_lexer": "ipython3",
   "version": "3.9.5"
  }
 },
 "nbformat": 4,
 "nbformat_minor": 5
}
