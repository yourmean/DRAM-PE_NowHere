{
 "cells": [
  {
   "cell_type": "code",
   "execution_count": 1,
   "id": "8bb768a8",
   "metadata": {},
   "outputs": [
    {
     "name": "stdout",
     "output_type": "stream",
     "text": [
      "6\n",
      "6\n"
     ]
    }
   ],
   "source": [
    "n = int(input())\n",
    "k = int(input())\n",
    "data = [[0] * (n+1) for _ in range(n+1)]   # 맵 정보\n",
    "info = []   # 방향 회전 정보"
   ]
  },
  {
   "cell_type": "code",
   "execution_count": 2,
   "id": "d588f4b2",
   "metadata": {},
   "outputs": [
    {
     "name": "stdout",
     "output_type": "stream",
     "text": [
      "0 0\n",
      "0 0\n",
      "0 0\n",
      "0 0\n",
      "0 1\n",
      "0 0\n"
     ]
    }
   ],
   "source": [
    "# 맵 정보(사과 있는 곳은 1로 표시)\n",
    "for _ in range(k):\n",
    "    a, b = map(int, input().split())\n",
    "    data[a][b] = 1"
   ]
  },
  {
   "cell_type": "code",
   "execution_count": 3,
   "id": "99819fc7",
   "metadata": {},
   "outputs": [
    {
     "name": "stdout",
     "output_type": "stream",
     "text": [
      "2\n",
      "0 0\n",
      "0 1\n"
     ]
    }
   ],
   "source": [
    "# 방향 회전 정보 입력\n",
    "l = int(input())\n",
    "for _ in range(l):\n",
    "    x, c = input().split()\n",
    "    info.append((int(x), c))"
   ]
  },
  {
   "cell_type": "code",
   "execution_count": 4,
   "id": "df07d330",
   "metadata": {},
   "outputs": [],
   "source": [
    "# 처음에는 오른쪽을 보고 있으므로(동,남,서,북)\n",
    "dx = [0, 1, 0, -1]\n",
    "dy = [1, 0, -1, 0]\n",
    "\n",
    "def turn(direction, c):\n",
    "    if c == \"L\":\n",
    "        direction = (direction - 1) % 4\n",
    "    else:\n",
    "        direction = (direction + 1) % 4\n",
    "    return direction"
   ]
  },
  {
   "cell_type": "code",
   "execution_count": 6,
   "id": "846df5ee",
   "metadata": {},
   "outputs": [],
   "source": [
    "# 처음에는 오른쪽을 보고 있으므로(동, 남, 서, 북)\n",
    "dx = [0, 1, 0, -1]\n",
    "dy = [1, 0, -1, 0]"
   ]
  },
  {
   "cell_type": "code",
   "execution_count": 7,
   "id": "cbf0ec0d",
   "metadata": {},
   "outputs": [],
   "source": [
    "def turn(direction, c):\n",
    "    if c == \"L\":\n",
    "        direction = (direction - 1) % 4\n",
    "    else:\n",
    "        direction = (direction + 1) % 4\n",
    "    return direction"
   ]
  },
  {
   "cell_type": "code",
   "execution_count": 10,
   "id": "f24255a5",
   "metadata": {},
   "outputs": [
    {
     "name": "stdout",
     "output_type": "stream",
     "text": [
      "6\n"
     ]
    }
   ],
   "source": [
    "def simulate():\n",
    "    x, y = 1, 1 #뱀의 머리 위치\n",
    "    data[x][y] = 2 # 뱀이 존재하는 위치는 2로 표시\n",
    "    direction = 0 # 처음에는 동쪽을 보고 있음\n",
    "    time = 0 # 시작한 뒤에 지난 '초' 시간\n",
    "    index = 0 # 다음에 회전할 정보\n",
    "    q = [(x, y)] # 뱀이 차지하고 있는 위치 정보(꼬리가 앞쪽)\n",
    "    while True:\n",
    "        nx = x + dx[direction]\n",
    "        ny = y + dy[direction]\n",
    "        # 맵 범위 안에 있고, 뱀의 몸통이 없는 위치라면\n",
    "        if 1 <= nx and nx <= n and 1 <= ny and ny <= n and data[nx][ny] != 2:\n",
    "            # 사과가 없다면 이동 후에 꼬리 제거\n",
    "            if data[nx][ny] == 0:\n",
    "                data[nx][ny] = 2\n",
    "                q.append((nx, ny))\n",
    "                px, py = q.pop(0)\n",
    "                data[px][py] = 0\n",
    "            # 사과가 있다면 이동 후에 꼬리 그대로 두기\n",
    "            if data[nx][ny] == 1:\n",
    "                data[nx][ny] = 2\n",
    "                q.append((nx, ny))\n",
    "        # 벽이나 뱀의 몸통과 부딪혔다면\n",
    "        else:\n",
    "            time += 1\n",
    "            break\n",
    "        x, y = nx, ny\n",
    "        time += 1\n",
    "        if index < 1 and time == info[index][0]: # 회전할 시간인 경우 회전\n",
    "            direction = turn(direction, info[index][1])\n",
    "            index += 1\n",
    "    return time\n",
    "\n",
    "\n",
    "print(simulate())"
   ]
  },
  {
   "cell_type": "code",
   "execution_count": null,
   "id": "20df4141",
   "metadata": {},
   "outputs": [],
   "source": []
  },
  {
   "cell_type": "code",
   "execution_count": null,
   "id": "25990a3b",
   "metadata": {},
   "outputs": [],
   "source": []
  },
  {
   "cell_type": "code",
   "execution_count": null,
   "id": "75d61649",
   "metadata": {},
   "outputs": [],
   "source": []
  },
  {
   "cell_type": "code",
   "execution_count": null,
   "id": "c9937325",
   "metadata": {},
   "outputs": [],
   "source": []
  }
 ],
 "metadata": {
  "kernelspec": {
   "display_name": "Python 3 (ipykernel)",
   "language": "python",
   "name": "python3"
  },
  "language_info": {
   "codemirror_mode": {
    "name": "ipython",
    "version": 3
   },
   "file_extension": ".py",
   "mimetype": "text/x-python",
   "name": "python",
   "nbconvert_exporter": "python",
   "pygments_lexer": "ipython3",
   "version": "3.9.5"
  },
  "toc": {
   "base_numbering": 1,
   "nav_menu": {},
   "number_sections": true,
   "sideBar": true,
   "skip_h1_title": false,
   "title_cell": "Table of Contents",
   "title_sidebar": "Contents",
   "toc_cell": false,
   "toc_position": {},
   "toc_section_display": true,
   "toc_window_display": false
  }
 },
 "nbformat": 4,
 "nbformat_minor": 5
}
