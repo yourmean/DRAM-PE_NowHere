{
 "cells": [
  {
   "cell_type": "markdown",
   "id": "bc1483ea",
   "metadata": {},
   "source": [
    "* 완전 탐색으로 해결 가능\n",
    "* 문제에서 찾고자 하는 값은 '투입해야 하는 친구 수의 최솟값'\n",
    "* 이때 전체 친구의 수(dist의 길이)는 최대 8이다.\n",
    "* 모든 친구를 무작위로 나열하는 모든 순열의 수를 계산해보면, 8!=40320으로 충분히 계산 가능한 경우의 수임.\n",
    "* 따라서, 친구를 나열하는 모든 경우의 수를 각각 확인하여 친구를 최소 몇 명 배치하면 되는지 문제를 해결할 수 있다.\n",
    "\n",
    "* 원형으로 나열된 데이터를 처리하는 경우에는, 문제 풀이를 간단히 하기 위해 길이를 2배로 늘려서 '원형'을 일자 형태로 만드는 작업을 하면 유리함."
   ]
  },
  {
   "cell_type": "code",
   "execution_count": 1,
   "id": "e1b4a1fa",
   "metadata": {},
   "outputs": [],
   "source": [
    "# https://programmers.co.kr/learn/courses/30/lessons/60062\n",
    "\n",
    "from itertools import permutations"
   ]
  },
  {
   "cell_type": "code",
   "execution_count": 2,
   "id": "74fc79e4",
   "metadata": {},
   "outputs": [],
   "source": [
    "def solutions(n, weak, dist):\n",
    "    # 길이를 2배로 늘려서 '원형'을 일자 형태로 변형\n",
    "    length = len(weak)\n",
    "    for i in range(length):\n",
    "        weak.append(weak[i] + n)\n",
    "    answer = len(dist) + 1   # 투입할 친구 수의 최솟값을 찾아야 하므로 len(dist)+1로 초기화\n",
    "    # 0부터 length - 1 까지의 위치를 각각 시작점으로 설정\n",
    "    for start in range(length):\n",
    "        #친구를 나열하는 모든 경우의 수 각각에 대하여 확인\n",
    "        for friends in list(permutations(dist, len(dist))):\n",
    "            count = 1  # 투입할 친구의 수\n",
    "            # 해당 친구가 점검할 수 있는 마지막 위치\n",
    "            position = weak[start] + friends[count - 1]\n",
    "            # 시작점부터 모든 취약 지점을 확인\n",
    "            for index in range(start, start + length):\n",
    "                # 점검할 수 있는 위치를 벗어나는 경우\n",
    "                if position < weak[index]:\n",
    "                    count += 1  # 새로운 친구를 투입\n",
    "                    if count > len(dist):  # 더 투입이 불가능하다면 종료\n",
    "                        break\n",
    "                    position = weak[index] + friends[count - 1]\n",
    "            answer = min(answer, count)  # 최솟값 계산\n",
    "    if answer > len(dist):\n",
    "        return -1\n",
    "    return answer"
   ]
  }
 ],
 "metadata": {
  "kernelspec": {
   "display_name": "Python 3 (ipykernel)",
   "language": "python",
   "name": "python3"
  },
  "language_info": {
   "codemirror_mode": {
    "name": "ipython",
    "version": 3
   },
   "file_extension": ".py",
   "mimetype": "text/x-python",
   "name": "python",
   "nbconvert_exporter": "python",
   "pygments_lexer": "ipython3",
   "version": "3.9.5"
  },
  "toc": {
   "base_numbering": 1,
   "nav_menu": {},
   "number_sections": true,
   "sideBar": true,
   "skip_h1_title": false,
   "title_cell": "Table of Contents",
   "title_sidebar": "Contents",
   "toc_cell": false,
   "toc_position": {},
   "toc_section_display": true,
   "toc_window_display": false
  }
 },
 "nbformat": 4,
 "nbformat_minor": 5
}
