{
 "cells": [
  {
   "cell_type": "markdown",
   "id": "68c062c3",
   "metadata": {},
   "source": [
    "* 잠겨있는 자물쇠는 격자 한 칸의 크기가 1x1인 NxN 크기의 정사각 격자 형태\n",
    "* 특이한 모양의 열쇠는 MxM 크기인 정사각 격자 형태 (M < N)\n",
    "* 해결 아이디어 : 완전 탐색(모든 경우의 수 고려)"
   ]
  },
  {
   "cell_type": "markdown",
   "id": "0f5c8fce",
   "metadata": {},
   "source": [
    "**< Solution >**\n",
    "* 열쇠와 자물쇠가 3x3이라고 가정하고, 완전 탐색을 수월하게 하기 위해 자물쇠 리스트의 크기를 3배 이상인 9x9로 변경하기\n",
    "* 0은 홈, 1은 돌기 부분을 나타냄.\n",
    "* **자물쇠 리스트 + 열쇠 리스트 = 모든 값이 1**이면 OK!\n",
    "* 효율적인 문제 풀이를 위해 rotate_a_matrix_by_90_degree() 함수가 구현됨.\n",
    "* 이 함수는 '2차원 리스트를 시계 방향으로 90도 회전한 결과를 반환'하는 함수"
   ]
  },
  {
   "cell_type": "code",
   "execution_count": null,
   "id": "a43ffe60",
   "metadata": {},
   "outputs": [],
   "source": [
    "# 2차원 리스트 시계방향으로 90도 회전 함수 선언\n",
    "def rotate_a_matrix_by_90_degree(a):\n",
    "    n = len(a) # 행 길이 계산 (n=3)\n",
    "    m = len(a[0]) # 열 길이 계산 (m=3)\n",
    "    result = [[0] * n for _ in range(m)] # 결과 리스트 : [0] * n을 m번 수행함\n",
    "    for i in range(n):\n",
    "        for j in range(m):\n",
    "            result[j][n-i-1] = a[i][j]\n",
    "                # (0,1)->(0,0), (1,1)->(0,1), (2,1)->(0,2)\n",
    "                # (0,0)->(1,0), (1,0)->(1,1), (2,0)->(1,2)\n",
    "                # (0,-1)->(2,0), (1,-1)->(2,1), (2,-1)->(2,2)\n",
    "        return result\n",
    "\n",
    "# 자물쇠의 중간 부분이 모두 1인지 확인\n",
    "def check(new_lock):\n",
    "    lock_length = len(new_lock) // 3  \n",
    "    for i in range(lock_length, lock_length * 2):\n",
    "        for j in range(lock_length, lock_length * 2):\n",
    "            if new_lock[i][j] != 1:\n",
    "                return False\n",
    "    return True\n",
    "\n",
    "def solution(key, lock):\n",
    "    n = len(lock)\n",
    "    m = len(key)\n",
    "    # 자물쇠의 크기를 기존의 3배로 변환\n",
    "    new_lock = [[0] * (n*3) for _ in range(n*3)]\n",
    "    #새로운 자물쇠의 중앙 부분에 기존의 자물쇠 넣기\n",
    "    for i in range(n):\n",
    "        for j in range(n):\n",
    "            new_lock[i + n][j + n] = lock[i][j]\n",
    "            \n",
    "    # 4가지 방향에 대해서 확인\n",
    "    for rotation in range(4):\n",
    "        key = rotate_a_matrix_by_90_degree(key) # 열쇠 90도 회전\n",
    "        for x in range(n*2):\n",
    "            for y in range(n*2):\n",
    "                # 자물쇠에 열쇠를 끼워 넣기\n",
    "                for i in range(m):\n",
    "                    for j in rnage(m):\n",
    "                        new_lock[x+i][y+j] += key[i][j]\n",
    "                # 새로운 자물쇠에 열쇠가 정확히 들어맞는지 검사\n",
    "                if check(new_lock) == True:\n",
    "                    return True\n",
    "                # 자물쇠에서 열쇠를 다시 빼기\n",
    "                for i in range(m):\n",
    "                    for j in range(m):\n",
    "                        new_lock[x+i][y+j] -= key[i][j]\n",
    "    return False"
   ]
  },
  {
   "cell_type": "code",
   "execution_count": null,
   "id": "95490dd6",
   "metadata": {},
   "outputs": [],
   "source": []
  },
  {
   "cell_type": "code",
   "execution_count": null,
   "id": "d7ecbb5d",
   "metadata": {},
   "outputs": [],
   "source": []
  }
 ],
 "metadata": {
  "kernelspec": {
   "display_name": "Python 3 (ipykernel)",
   "language": "python",
   "name": "python3"
  },
  "language_info": {
   "codemirror_mode": {
    "name": "ipython",
    "version": 3
   },
   "file_extension": ".py",
   "mimetype": "text/x-python",
   "name": "python",
   "nbconvert_exporter": "python",
   "pygments_lexer": "ipython3",
   "version": "3.9.5"
  },
  "toc": {
   "base_numbering": 1,
   "nav_menu": {},
   "number_sections": true,
   "sideBar": true,
   "skip_h1_title": false,
   "title_cell": "Table of Contents",
   "title_sidebar": "Contents",
   "toc_cell": false,
   "toc_position": {},
   "toc_section_display": true,
   "toc_window_display": false
  }
 },
 "nbformat": 4,
 "nbformat_minor": 5
}
