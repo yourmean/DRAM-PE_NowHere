{
 "cells": [
  {
   "attachments": {},
   "cell_type": "markdown",
   "metadata": {},
   "source": [
    "## Information\n"
   ]
  },
  {
   "cell_type": "code",
   "execution_count": null,
   "metadata": {},
   "outputs": [],
   "source": [
    "df.info()\n",
    "display(df.describe()) \n",
    "\n",
    "# 특정조건만족하는 subset의 data info\n",
    "display(df[df.Light <0].shape)\n",
    "\n",
    "# df['date'].diff().dt.seconds.dropna() :  Data간의 차이를 초로 확인했을때\n",
    "timedeltas = df['date'].diff().dt.seconds.dropna()  \n",
    "display(timedeltas.describe())\n",
    "\n",
    "# 데이터에 불균형이 있는지 확인\n",
    "plt.figure(figsize=(15,4))\n",
    "plt.scatter(df['date'],df['Occupancy'].astype('str'),s=0.03)\n",
    "plt.show()\n",
    "\n",
    "# Sorting하고, index는 지우겠다\n",
    "tt = ttt.sort_values(['houseCode','date']).reset_index(drop=True) \n",
    "\n",
    "# column이름 바꾸기\n",
    "tg = tg.rename(columns= {'power consumption':'power consumption sum'})\n",
    "\n",
    "# data copy\n",
    "tgg = tg.copy()\n",
    "\n",
    "# 파생변수 만들기\n",
    "tgg['c'] =tgg['houseCode'].str[-2:].astype('int')\n",
    "tgg['d'] =tgg['date'].dt.hour\n",
    "tgg['e'] =tgg['date'].dt.day\n",
    "\n",
    "##### 'HouseCode'변수 Grouping / 'data'변수에서 15분 간격 / 'power consumption' 변수를 Sum으로 묶겠다\n",
    "tt['date'] = pd.to_datetime(tt['date'])\n",
    "tg = tt.groupby(['houseCode']).resample('15min', on='date')['power consumption'].sum().reset_index()\n",
    "tg.head(n=5)\n",
    "\n",
    "#### k-means로 군집변수 column 추가\n",
    "from sklearn.cluster import KMeans \n",
    "# k-means clustering 실행\n",
    "kmeans = KMeans(n_clusters=5)   \n",
    "kmeans.fit(tgg.iloc[:,2:].values)   \n",
    "tg['Cluster'] = kmeans.labels_\n",
    "\n",
    "#### apply(suntimechecker) 를 원본 데이터 time 변수에 적용해서 -> suntime이라는 파생변수생성\n",
    "\n",
    "def suntimeChecker(x):\n",
    "    if pd.to_datetime(x).hour in list(range(6,18)):   # 객체 x의 시간이 오전6시 ~ 오후6시안에 포함된다면\n",
    "        return 1 \n",
    "    else:\n",
    "        return 0\n",
    "\n",
    "dt3['TIMESTAMP'] = pd.to_datetime(dt3['TIMESTAMP'])\n",
    "dt3['suntime'] = dt3['TIMESTAMP'].apply(suntimeChecker) \n"
   ]
  },
  {
   "attachments": {},
   "cell_type": "markdown",
   "metadata": {},
   "source": [
    "## Missing Value"
   ]
  },
  {
   "attachments": {},
   "cell_type": "markdown",
   "metadata": {},
   "source": [
    "###  1. 결측치 확인\n",
    "- 비율, Count\n",
    "- 시각화"
   ]
  },
  {
   "cell_type": "code",
   "execution_count": null,
   "metadata": {},
   "outputs": [],
   "source": [
    "\n",
    "# Column 별 na 숫자 합\n",
    "data.isnull().sum()\n",
    "\n",
    "# 전체 개수 대비 많은 편일까? -> 각 열별 결측치의 비율\n",
    "print(df.isna().sum()/len(df))\n",
    "\n",
    "# embarked 열의 결측치 / 결측치 아닌것의 개수 \n",
    "print(df['embarked'].isnull().sum())\n",
    "print(df['embarked'].notnull().sum())"
   ]
  },
  {
   "attachments": {},
   "cell_type": "markdown",
   "metadata": {},
   "source": [
    "#### 2. 결측치 처리하기\n",
    "##### 1  Drop na\n",
    "- Drop 시키기 : dropna\n",
    "- DataFrame.dropna(self, axis=0, how='any', thresh=None, subset=None, inplace=False)"
   ]
  },
  {
   "cell_type": "code",
   "execution_count": null,
   "metadata": {},
   "outputs": [],
   "source": [
    "# 결측이 있는 모든 행 삭제\n",
    "data.dropna(how='any')\n",
    "\n",
    "# 모든 열의 값이 결측일때 행을 삭제\n",
    "data.dropna(how='all')\n",
    "\n",
    "# thresh 매개변수는, 결측치가 아닌 데이터 개수의 기준\n",
    "# th = 1이면, 결측치데이터가 1개 이상이면, 삭제\n",
    "data.dropna(thresh=1)\n",
    "\n",
    "# 결측치의 비율이 특정 이상인 행을 삭제\n",
    "df.drop(columns = df.columns[df.isna().sum()/len(df) > 0.15], axis = 1)\n",
    "\n",
    "#해당 칼럼을 기준으로 결측치를 처리한다.\n",
    "data.dropna(subset=['칼럼이름'])"
   ]
  },
  {
   "attachments": {},
   "cell_type": "markdown",
   "metadata": {},
   "source": [
    "#####  2  Fill na\n",
    "- df['column'].fillna(임의 값)\n",
    "- df['column'].fillna(method='ffill' or 'bfill')\n",
    "- DataFrame.fillna(self, value=None, method=None, axis=None, inplace=False, limit=None, downcast=None)"
   ]
  },
  {
   "cell_type": "code",
   "execution_count": null,
   "metadata": {},
   "outputs": [],
   "source": [
    "# 0으로 대체하기\n",
    "data.fillna(0)\n",
    "\n",
    "# 평균값, 최소값, 분산, 표준편차, 평균등으로 특정 칼럼의 값을 대체하기\n",
    "korea_data.fillna({'확진자':korea_data['확진자'].mean()})\n",
    "\n",
    "# 행정구역의 결측치는 '서울'로, 국가/지역의 결측치는 '대한민국'으로 채우기\n",
    "korea_data.fillna({'행정구역':'서울','국가/지역':'대한민국'})"
   ]
  },
  {
   "cell_type": "code",
   "execution_count": null,
   "metadata": {},
   "outputs": [],
   "source": [
    "# 혼합해서 써보기\n",
    "korea_data.fillna({'행정구역':'서울',\n",
    "                   '국가/지역':'대한민국',\n",
    "                   '확진자':korea_data['확진자'].mean()},\n",
    "                  inplace=True)"
   ]
  },
  {
   "cell_type": "code",
   "execution_count": null,
   "metadata": {},
   "outputs": [],
   "source": [
    "# 뒤의 값으로 채우기\n",
    "df['age'].fillna(method = 'bfill', inplace = True)\n",
    "df.iloc[190:200, 0:4]\n",
    "\n",
    "# 앞의 값으로 채우기\n",
    "df['deck'].fillna(method = 'ffill', inplace = True)\n",
    "df.iloc[:10, 10:15]"
   ]
  },
  {
   "attachments": {},
   "cell_type": "markdown",
   "metadata": {},
   "source": [
    "##### 3  Interpolate 보간법\n",
    "\n",
    "- df['age'].interpolate(inplace = True)"
   ]
  },
  {
   "cell_type": "code",
   "execution_count": null,
   "metadata": {},
   "outputs": [],
   "source": [
    "## Piecewise Constant Interpolation\n",
    "#  Linear Interpolation 이 주로 사용되고, \n",
    "#Piecewise Constant Interpolation 은 잘 사용되지 않는 편입니다. \n",
    "# 하지만 다차원의 다변량 보간 (in higher-dimensional multivariate interpolation)의 경우, \n",
    "# 속도와 단순성(speed and simplicity)  측면에서 선호하는 선택이 될 수 있습니다. \n",
    "\n",
    "f_nearest = interpolate.interp1d(\n",
    "    x, y, kind='nearest')\n",
    "\n",
    "y_new_nearest = f_nearest(xnew)\n",
    "\n",
    "plt.plot(x, y, \"o\", xnew, y_new_nearest)\n",
    "plt.show()"
   ]
  },
  {
   "cell_type": "code",
   "execution_count": null,
   "metadata": {},
   "outputs": [],
   "source": [
    "#보간 값으로 넣기\n",
    "df_interpolate.interpolate( method = 'linear', inplace = True)\n",
    "\n",
    "def interpolated(df):\n",
    "    temp=[]\n",
    "    for i in df['ID'].unique():\n",
    "        temp.append(df[df['ID']==i].interpolate())\n",
    "    new_df=pd.concat(temp,axis=0)\n",
    "    return new_df\n",
    "\n",
    "import numpy as np\n",
    "from scipy import interpolate\n",
    "import matplotlib.pyplot as plt\n",
    "\n",
    "## generating the original data with missing values\n",
    "x = np.arange(0, 4*np.pi, 0.5)\n",
    "y = np.sin(x)\n",
    "\n",
    "plt.plot(x, y, \"o\")\n",
    "plt.show()\n",
    "\n",
    "##1. 이전 값/ 다음 값을 이용하여 결측값 채우기 \n",
    "# (Imputation using the previous/next values)\n",
    "## Interpolation using the previous value\n",
    "f_prev = interpolate.interp1d(\n",
    "    x, y, kind='previous') # next\n",
    "y_new_prev = f_prev(xnew)\n",
    "\n",
    "plt.plot(x, y, \"o\", xnew, y_new_prev, '-')\n",
    "plt.show()"
   ]
  },
  {
   "cell_type": "code",
   "execution_count": null,
   "metadata": {},
   "outputs": [],
   "source": [
    "## 3 Linear Interpolation\n",
    "f_linear = interpolate.interp1d(\n",
    "    x, y, kind='linear')\n",
    "\n",
    "y_new_linear = f_linear(xnew)\n",
    "\n",
    "plt.plot(x, y, \"o\", xnew, y_new_linear, '-')\n",
    "plt.show()"
   ]
  },
  {
   "cell_type": "code",
   "execution_count": null,
   "metadata": {},
   "outputs": [],
   "source": [
    "## 4.  Spline Interpolation\n",
    "f_quadr = interpolate.interp1d(\n",
    "    x, y, kind='quadratic') # cubic\n",
    "\n",
    "y_new_quadr = f_quadr(xnew)\n",
    "\n",
    "plt.plot(x, y, \"o\", xnew, y_new_quadr)\n",
    "plt.show()"
   ]
  },
  {
   "cell_type": "code",
   "execution_count": null,
   "metadata": {},
   "outputs": [],
   "source": [
    "df_specific_value.fillna(0)  # 0으로 채워넣기\n",
    "\n",
    "# 각 지역(우편번호)마다의 평균값을 준비 하기\n",
    "mean_10054 = df[ 'avg_10054' ].mean()\n",
    "# 준비한 평균값을으로 결측치를 대신하기\n",
    "df_mean['avg_10054'].fillna(mean_10054, inplace = True)\n",
    "\n",
    "# 직전 값으로 넣기\n",
    "df_forward.fillna(method = 'pad', inplace = True)\n",
    "# 직후 값으로 넣기\n",
    "df_backward.fillna(method = 'bfill', inplace = True)\n"
   ]
  },
  {
   "attachments": {},
   "cell_type": "markdown",
   "metadata": {},
   "source": [
    "## Split, Concat, Merge\n",
    "\n",
    "#### 1. Split"
   ]
  },
  {
   "cell_type": "code",
   "execution_count": null,
   "metadata": {},
   "outputs": [],
   "source": [
    "df = pd.Dataframe(data)\n",
    "v_split = df.variable.str.split('_', expand=True) \n",
    "v_split.head(3)\n",
    "\n",
    "v_split.str.get(0) #왼쪽꺼 싹뽑기\n",
    "v_statue = v_split.str.get(0)\n",
    "v_country= v_split.str.get(1)\n",
    "df['status'], df['country'] = (v_statue, v_country)\n",
    "\n",
    "# 방법2\n",
    "v_split = ebola_long.variable.str.split('_', expand=True) \n",
    "#위의 v_split이 데이터프레임이므로 컬럼명 바로 수정 가능\n",
    "v_split.columns = ['status', 'country']\n",
    "#곧바로 ebola_long과 v_split을 concat으로 연결\n",
    "pd.concat([ebola_long, v_split], axis=1)"
   ]
  },
  {
   "attachments": {},
   "cell_type": "markdown",
   "metadata": {},
   "source": [
    "#### 2. Concat\n",
    "- pd.concat([df1,df2,..],axis=0,ignore_index=False,join='outer')"
   ]
  },
  {
   "cell_type": "code",
   "execution_count": null,
   "metadata": {},
   "outputs": [],
   "source": [
    "# 디폴트 -> row-bind로 붙여지는 게 기본형태\n",
    "pd.concat([df1, df2, df3])\n",
    "\n",
    "# 축을 바꿔보면? -> col-bind로 붙여짐 (같은 인덱스 번호인 애들끼리)\n",
    "pd.concat([df1, df2, df3], axis = 1)\n",
    "\n",
    "# 인덱스 번호 초기화 \n",
    "pd.concat([df1, df2, df3], ignore_index = True)\n",
    "\n",
    "# 참고로, col-bind로 붙여졌을 때도 인덱스 번호를 초기화할 수 있다\n",
    "pd.concat([df1, df2, df3], axis = 1, ignore_index = True)\n",
    "\n",
    "# 디폴트는 outer join으로 겹치는 값 상관없이 모두 join함.\n",
    "# 겹치는 값만 뽑아보면 -> 열 이름이 같으므로 전부 뽑힌다!! \n",
    "pd.concat([df1, df2, df3], join = 'inner') #공통인 열만"
   ]
  },
  {
   "cell_type": "code",
   "execution_count": null,
   "metadata": {},
   "outputs": [],
   "source": [
    "# 행 값이 1인 것만 추출 (인덱스가 1인 값 모두)\n",
    "new_df.loc[1,]\n",
    "\n",
    "# 이번에는 딱 1행만 추출\n",
    "new_df.iloc[1, ]"
   ]
  },
  {
   "cell_type": "code",
   "execution_count": null,
   "metadata": {},
   "outputs": [],
   "source": [
    "해당 행을, 기존 dataframe에 있는 column명들을 지정해서, concat으로 아래 붙여줄 수 있다"
   ]
  },
  {
   "cell_type": "code",
   "execution_count": null,
   "metadata": {},
   "outputs": [],
   "source": [
    "## 컬럼이 여러개이면 Series가 아닌 Dataframe이므로 바꿔준다 \n",
    "df4 = pd.DataFrame([[47, 92, 88, 76]], columns = ['Korean', 'Math', 'English', 'Science'])\n",
    "pd.concat([new_df, df4])"
   ]
  },
  {
   "attachments": {},
   "cell_type": "markdown",
   "metadata": {},
   "source": [
    "#### 3. Merge\n",
    "- (1) df1,df2 열 이름이 모두 동일한 경우 : pd.merge(df1,df2,on='공통열',how='inner')\n",
    "\n",
    "- (2) df1,df2 열이 의미하는 것은 같은데 이름이 다른 경우 : pd.merge(df1,left_on='df1공통칼럼명',right_on='df2공통칼럼명',how='inner')\n"
   ]
  },
  {
   "cell_type": "code",
   "execution_count": null,
   "metadata": {},
   "outputs": [],
   "source": [
    "pd.merge(df1,df2,on='공통열',how='inner')\n",
    "pd.merge(df1,left_on='df1공통칼럼명',right_on='df2공통칼럼명',h"
   ]
  },
  {
   "attachments": {},
   "cell_type": "markdown",
   "metadata": {},
   "source": [
    "## 시각화\n",
    "### Numerical\n",
    "- 수치형 변수 1개 : 히스토그램, 분포도(hist+커널밀도함수), 박스플롯"
   ]
  },
  {
   "attachments": {},
   "cell_type": "markdown",
   "metadata": {},
   "source": [
    "##### 히스토그램(hist)"
   ]
  },
  {
   "cell_type": "code",
   "execution_count": null,
   "metadata": {},
   "outputs": [],
   "source": [
    "plt.hist(tips['total_bill'])\n",
    "## 다음의 코드도 동일한 그래프\n",
    "#tips['total_bill'].hist()\n",
    "#tips['total_bill'].plot.hist()\n",
    "\n",
    "plt.show()\n",
    "\n",
    "# bins 고정 : 구간의 수를 늘릴 수 있다\n",
    "plt.hist(tips['total_bill'], bins = 20)\n",
    "plt.show()\n",
    "\n",
    "# 위는 y가 빈도수(freq)인데, 이를 y축 비율로 바꿈\n",
    "plt.hist(tips['total_bill'], bins = 20, density = True)\n",
    "plt.show()"
   ]
  },
  {
   "attachments": {},
   "cell_type": "markdown",
   "metadata": {},
   "source": [
    "##### 분포도(distplot)"
   ]
  },
  {
   "cell_type": "code",
   "execution_count": null,
   "metadata": {},
   "outputs": [],
   "source": [
    "sns.distplot(tips['total_bill'])\n",
    "plt.show()\n",
    "\n",
    "# kde=False로 하면 히스토그램이 된다\n",
    "sns.distplot(tips['total_bill'], kde = False, hist = True) #히스토그램 \n",
    "plt.show()\n",
    "# hist=False로 하면 커널밀도함수 그래프가된다\n",
    "sns.distplot(tips['total_bill'], kde = True, hist = False) #커널밀도그래프\n",
    "plt.show()"
   ]
  },
  {
   "attachments": {},
   "cell_type": "markdown",
   "metadata": {},
   "source": [
    "##### 박스플롯(Boxplot)"
   ]
  },
  {
   "cell_type": "code",
   "execution_count": null,
   "metadata": {},
   "outputs": [],
   "source": [
    "sns.boxplot(tips['total_bill'])\n",
    "plt.show()\n",
    "\n",
    "# boxplot 세우기\n",
    "sns.boxplot(y = 'total_bill', data = tips)\n",
    "plt.show()"
   ]
  },
  {
   "attachments": {},
   "cell_type": "markdown",
   "metadata": {},
   "source": [
    "### 수치형 변수 2개 이상시각화(변수간 관계 확인)\n",
    "#### 히트맵 sns.heatmap()"
   ]
  },
  {
   "cell_type": "code",
   "execution_count": null,
   "metadata": {},
   "outputs": [],
   "source": [
    "tips.corr()\n",
    "# 위의 테이블 형태를 그대로 sns.heatmap 안에 넣으면 끝\n",
    "tip_cor = tips.corr()\n",
    "sns.heatmap(tip_cor)\n",
    "\n",
    "tip_pivot = pd.pivot_table(index = 'time', columns = 'size', values = 'tip', data = tips)\n",
    "sns.heatmap(tip_pivot)\n"
   ]
  },
  {
   "attachments": {},
   "cell_type": "markdown",
   "metadata": {},
   "source": [
    "#### 라인플롯 sns.lineplot()"
   ]
  },
  {
   "cell_type": "code",
   "execution_count": null,
   "metadata": {},
   "outputs": [],
   "source": [
    "# 두 수치형 데이터 size, tip 간 관계를 시각화\n",
    "sns.lineplot(x = 'size', y = 'tip', data = tips)\n",
    "\n",
    "# 참고로 hue에 범주형 데이터를 넣어서 선을 다양화할 수 있다.\n",
    "# size와 tip의 라인플롯 - smoker 여부에 따라 달라지는지 체크\n",
    "sns.lineplot(x= 'size', y = 'tip', hue = 'smoker', data = tips)\n",
    "\n",
    "# 만일 x, y 둘 다 연속형을 쓰면,, 그림이 좀 이상해짐\n",
    "sns.lineplot(x = 'total_bill', y = 'tip', data = tips)"
   ]
  },
  {
   "attachments": {},
   "cell_type": "markdown",
   "metadata": {},
   "source": [
    "#### 산점도 sns.scatterplot()\n",
    "x,y둘다 연속형이면 산점도 쓰는걸 추천"
   ]
  },
  {
   "cell_type": "code",
   "execution_count": null,
   "metadata": {},
   "outputs": [],
   "source": [
    "# 위에서 이상해보였던 total_bill과 tip 간 그래프를 산점도로 다시 그려보자 \n",
    "sns.scatterplot(x = 'total_bill', y = 'tip', data = tips)\n",
    "\n",
    "# 마찬가지로 hue에 범주형 변수를 넣어 시각화 가능\n",
    "# total_bill과 tip 간 그래프를 성별에 따라 나눠 그리면\n",
    "sns.scatterplot(x = 'total_bill', y = 'tip', data = tips, hue = 'sex')\n",
    "\n",
    "# total_bill & tip 간 관계, 회귀 직선 추가\n",
    "sns.regplot(x= 'total_bill', y = 'tip', data = tips)\n",
    "\n",
    "# 옵션: 99% 신뢰구간으로 늘리면 \n",
    "sns.regplot(x= 'total_bill', y = 'tip', data = tips, ci = 99)\n",
    "# marker 모양 바꾸기\n",
    "sns.regplot(x= 'total_bill', y = 'tip', data = tips, marker= '+')\n",
    "sns.regplot(x = 'size', y = 'tip', data = tips, x_jitter = .1)"
   ]
  },
  {
   "attachments": {},
   "cell_type": "markdown",
   "metadata": {},
   "source": [
    "#### Pairplot\n"
   ]
  },
  {
   "cell_type": "code",
   "execution_count": null,
   "metadata": {},
   "outputs": [],
   "source": [
    "import seaborn as sns\n",
    "import matplotlib.pyplot as plt\n",
    "sns.pairplot(df)\n",
    "plt.show()\n",
    "\n",
    "for v in df.select_dtypes(include='float'):\n",
    "    target = df[v].dropna()\n",
    "    plt.boxplot(target)\n",
    "    plt.title(v)\n",
    "    plt.show()\n",
    "    \n",
    "print('''\n",
    "Humidity, HumidityRatio컬럼은 높은 상관관계를 보이며, 두 컬럼을 제외한 나머지 데이터의 경우 이상치가 상대적으로 많이 존재한다\n",
    "''')"
   ]
  },
  {
   "attachments": {},
   "cell_type": "markdown",
   "metadata": {},
   "source": [
    "### Categorical\n",
    "#### 카운터플롯(countplot) : 카테고리별 개수 확인"
   ]
  },
  {
   "cell_type": "code",
   "execution_count": null,
   "metadata": {},
   "outputs": [],
   "source": [
    "sns.countplot(x = 'day', data = tips)\n",
    "\n",
    "# bar의 위치 반대로\n",
    "sns.countplot(y = 'day', data = tips)"
   ]
  },
  {
   "attachments": {},
   "cell_type": "markdown",
   "metadata": {},
   "source": [
    "#### 파이 그래프(plt.pie) : 범주형 데이터의 비율 구하기"
   ]
  },
  {
   "cell_type": "code",
   "execution_count": null,
   "metadata": {},
   "outputs": [],
   "source": [
    "# 여성, 남성 비율을 구해보자.\n",
    "pd.DataFrame(tips['sex'].value_counts()/tips['sex'].count())\n",
    "\n",
    "# 비율과 레이블 리스트로 뽑아내기\n",
    "new = pd.DataFrame(tips['sex'].value_counts()/tips['sex'].count())\n",
    "new.reset_index(inplace = True)\n",
    "\n",
    "# 위 리스트를 갖고 파이 그래프를 그리기\n",
    "plt.pie(x = list(new['sex']), \n",
    "           labels = list(new['index']),\n",
    "           autopct = '%.2f%%')\n",
    "plt.show()"
   ]
  },
  {
   "attachments": {},
   "cell_type": "markdown",
   "metadata": {},
   "source": [
    "### 범주형 변수 2개 이상 시각화\n",
    "#### 막대그래프(sns.barplot())\n",
    "x축에는 범주형 데이터, y 축엔 범주값에 따른 데이터의 평균값이 구해지는 막대그래프"
   ]
  },
  {
   "cell_type": "code",
   "execution_count": null,
   "metadata": {},
   "outputs": [],
   "source": [
    "# 성별 tip의 평균값\n",
    "sns.barplot(x = 'sex', y = 'tip', data = tips)\n",
    "\n",
    "# 성별 tip의 중위값\n",
    "sns.barplot(x = 'sex', y = 'tip', data = tips, estimator = np.median)\n",
    "\n",
    "## 그래프 가로로 그리기 -> x, y 위치 변경 \n",
    "# 성별 tip의 평균값\n",
    "sns.barplot(y = 'sex', x = 'tip', data = tips)"
   ]
  },
  {
   "attachments": {},
   "cell_type": "markdown",
   "metadata": {},
   "source": [
    "#### Pointplot\n",
    "x축엔 범주형, y축엔 범주에 따른 수치형의 평균값\n",
    "barplot은 bar모양으로, pointplot은 평균값이 점을 찍히고, category별 값이 선으로 연결된다.\n",
    "(각 점 위아래에 길게 그려진 선은 신뢰구간이다.)"
   ]
  },
  {
   "cell_type": "code",
   "execution_count": null,
   "metadata": {},
   "outputs": [],
   "source": [
    "# 요일(day)별 total_bill의 평균값\n",
    "sns.pointplot(x = 'day', y = 'total_bill', data = tips)\n",
    "\n",
    "# 요일별 total_bill의 최댓값 \n",
    "sns.pointplot(x = 'day', y = 'total_bill', data = tips, estimator = np.max)"
   ]
  },
  {
   "attachments": {},
   "cell_type": "markdown",
   "metadata": {},
   "source": [
    "#### Boxplot\n",
    "앞 두 그래프는 y축이 전부 평균값을 보여주지만, boxplot은 y축이 분포를 보여준다.\n",
    "x 범주형, y축엔 범주에 따른 수치형 데이터의 분포 값"
   ]
  },
  {
   "cell_type": "code",
   "execution_count": null,
   "metadata": {},
   "outputs": [],
   "source": [
    "# 식사 시간(time)별 total_bill의 분포\n",
    "sns.boxplot(x = 'time', y = 'total_bill', data = tips)\n",
    "\n",
    "# 그래프 눕히기 -> x, y 위치 변경 \n",
    "sns.boxplot(y = 'time', x = 'total_bill', data = tips)"
   ]
  },
  {
   "attachments": {},
   "cell_type": "markdown",
   "metadata": {},
   "source": [
    "#### Violinplot : boxplot + kdeplot\n",
    "boxplot은 분포를 확인하기는 좋지만, '분산'을 확인하기는 어렵다. 분산확인에 좋은게 바이올린 플롯이다."
   ]
  },
  {
   "cell_type": "code",
   "execution_count": null,
   "metadata": {},
   "outputs": [],
   "source": [
    "# time별 total_bill 분포\n",
    "sns.violinplot(x= 'time', y = 'total_bill', data= tips)\n",
    "\n",
    "# time별 total bill 분포 - 성별에 따라 다르게\n",
    "sns.violinplot(x= 'time', y = 'total_bill', hue = 'sex', data = tips)\n",
    "\n",
    "#split 버전\n",
    "sns.violinplot(x= 'time', y = 'total_bill', hue = 'sex', data = tips, split = True)"
   ]
  }
 ],
 "metadata": {
  "kernelspec": {
   "display_name": "base",
   "language": "python",
   "name": "python3"
  },
  "language_info": {
   "name": "python",
   "version": "3.9.13"
  },
  "orig_nbformat": 4,
  "vscode": {
   "interpreter": {
    "hash": "b3d37d874492e94d99085406551620cb0f2cb773fabc41648afd44c168223eed"
   }
  }
 },
 "nbformat": 4,
 "nbformat_minor": 2
}
