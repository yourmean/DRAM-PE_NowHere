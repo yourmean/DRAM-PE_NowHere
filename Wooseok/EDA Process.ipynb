{
 "cells": [
  {
   "cell_type": "markdown",
   "metadata": {
    "id": "d-lj8Q3o16qP"
   },
   "source": [
    "#EDA Process\n",
    "EDA : Exploratory Data Analysis 탐색적 데이터 분석\n",
    "\n",
    "\n",
    "------------------------------------------------------------------------------\n",
    "\n",
    "1. 시각화를 통한 분포 확인\n",
    "  - histogram, pie-chart, boxplot, qqplot(분포) 등\n",
    "\n",
    "2. Summary Statistics : 데이터 분포 및 특이성 확인\n",
    "  -  mean, sd, skewness, kurtosis, outliers, frequency 등\n",
    "\n",
    "3. 독립변수 선정\n",
    "  - 데이터 해석 상의 배경지식 반영\n",
    "  - 상관성 높은 변수 제거 (비추)\n",
    "  - 차원 축소 (설명력 높은 수준의 PCA)\n",
    "  - 파생변수 생성\n",
    "\n",
    "4. Data Filtering\n",
    "  - Data type 확인(수치형 <> 범주형)\n",
    "  - 중복 데이터 확인\n",
    "  - 결측치 제거 및 중위값 대체\n",
    "  - outlier 처리\n",
    "  - 범주형 : one-hot encoding\n",
    "\n",
    "5. 범주형 변수 처리\n",
    "\n",
    "6. scaling\n",
    "  - z-normalize, MinMax\n",
    "\n",
    "\n",
    "------------------------------------------------------------------------------\n",
    "\n"
   ]
  },
  {
   "cell_type": "markdown",
   "metadata": {
    "id": "CDa-9RiCEemM"
   },
   "source": []
  },
  {
   "cell_type": "code",
   "execution_count": null,
   "metadata": {
    "id": "vPkf6HhE8vxE"
   },
   "outputs": [],
   "source": []
  },
  {
   "cell_type": "markdown",
   "metadata": {
    "id": "splLRGr716Lo"
   },
   "source": [
    "1. 시각화를 통한 분포 확인\n",
    "  - histogram, pie-chart, boxplot, qqplot(분포) 등"
   ]
  },
  {
   "cell_type": "code",
   "execution_count": 2,
   "metadata": {},
   "outputs": [],
   "source": [
    "# 수치형 변수들의 분포 시각적 확인\n",
    "f,ax=plt.subplots(4,3,figsize=(19,6),constrained_layout = True)\n",
    "\n",
    "sns.distplot(df[\"A\"],bins=20,ax=ax[0,0],color='orange');\n",
    "sns.distplot(df[\"B\"],bins=20,ax=ax[0,1],color='orange');\n",
    "sns.distplot(df[\"C\"],bins=20,ax=ax[0,2],color='orange');\n",
    "sns.distplot(df[\"D\"],bins=20,ax=ax[1,0],color='red');\n",
    "sns.distplot(df[\"E\"],bins=20,ax=ax[1,1],color='red');\n",
    "sns.distplot(df[\"F\"],bins=20,ax=ax[1,2],color='red');\n",
    "sns.distplot(df[\"G\"],bins=20,ax=ax[2,0],color='black');\n",
    "sns.distplot(df[\"H\"],bins=20,ax=ax[2,1],color='black');\n",
    "sns.distplot(df[\"I\"],bins=20,ax=ax[2,2],color='black');\n",
    "sns.distplot(df[\"J\"],bins=20,ax=ax[3,0],color='gray');\n",
    "sns.distplot(df[\"K\"],bins=20,ax=ax[3,1],color='gray');\n",
    "sns.distplot(df[\"L\"],bins=20,ax=ax[3,2],color='gray');"
   ]
  },
  {
   "cell_type": "markdown",
   "metadata": {},
   "source": [
    "https://www.kaggle.com/code/galipsekeroglu/randomforest-explainableai-xai-eda-gridsearch"
   ]
  },
  {
   "cell_type": "code",
   "execution_count": null,
   "metadata": {},
   "outputs": [],
   "source": [
    "# 독립변수 A에 따른 target 변수(price) 분포\n",
    "plt.figure(figsize=(20,8))\n",
    "g = sns.scatterplot(x='A',y='Price',data=df)\n",
    "\n",
    "g.set_title('A VS Price Correlation',fontsize=20)\n",
    "g.set_xlabel('Ar',fontsize=12)\n",
    "g.set_ylabel('Price',fontsize=12)\n",
    "\n",
    "xlabels = ['{:,.2f}'.format(x)+'k' for x in g.get_xticks()/10e3]\n",
    "ylabels = ['{:,.2f}'.format(y)+'k' for y in g.get_yticks()/10e3]\n",
    "\n",
    "g.set_xticklabels(xlabels)\n",
    "g.set_yticklabels(ylabels)"
   ]
  },
  {
   "cell_type": "markdown",
   "metadata": {
    "id": "V57McMy08SWz"
   },
   "source": [
    "2. Summary Statistics : 데이터 분포 및 특이성 확인\n",
    "  -  mean, sd, skewness, kurtosis, outliers, frequency 등"
   ]
  },
  {
   "cell_type": "code",
   "execution_count": 4,
   "metadata": {
    "id": "Mm4nJjTT89fW"
   },
   "outputs": [],
   "source": [
    "df.head(n) # DataFrame 형태로 데이터 상위 n개 확인\n",
    "\n",
    "df.info() # class, Column별 데이터 갯수 및 type 확인\n",
    "\n",
    "df.describe().T"
   ]
  },
  {
   "cell_type": "markdown",
   "metadata": {},
   "source": [
    "https://blog.naver.com/charzim0611/222922894275"
   ]
  },
  {
   "attachments": {},
   "cell_type": "markdown",
   "metadata": {
    "id": "_1FXL-2E8SQE"
   },
   "source": [
    "3. 독립변수 선정\n",
    "  - 데이터 해석 상의 배경지식 반영\n",
    "  - 상관성 높은 변수 제거 (비추)\n",
    "  - 차원 축소 (설명력 높은 수준의 PCA)\n",
    "  - 파생변수 생성"
   ]
  },
  {
   "cell_type": "code",
   "execution_count": null,
   "metadata": {},
   "outputs": [],
   "source": [
    "# 각 변수들간의 상관관계 파악, 시각화 -> heatmap\n",
    "plt.subplots(figsize=(12,9))\n",
    "sns.heatmap(df.corr(), annot=True, vmax=0.9, square=True,cmap='RdYlGn') # 변수간 상관관계 corr()\n",
    "plt.show();"
   ]
  },
  {
   "cell_type": "code",
   "execution_count": null,
   "metadata": {
    "id": "3lOqbzUnCeeG"
   },
   "outputs": [],
   "source": [
    "# PCA\n",
    "from sklearn.preprocessing import StandardScaler\n",
    "from sklearn.decomposition import PCA\n",
    "\n",
    "# 0.9 이상의 강한 상관관계가 있는 변수들(A~Z)을 선형변환을 통해 차원 축소\n",
    "col_PCA = ['A,B...,Z']\n",
    "x = df[col_PCA]\n",
    "\n",
    "scaler = StandardScaler()\n",
    "scaler.fit(x)\n",
    "scaled_X_train = scaler.transform(x)\n",
    "\n",
    "pca = PCA(n_components=2) #PCA 객체 생성 (주성분 갯수 2개 생성)\n",
    "pca.fit(scaled_X_train)\n",
    "principalComponents = pca.transform(scaled_X_train)\n",
    "principalDf = pd.DataFrame(data = principalComponents, columns = ['PCA_1', 'PCA_2'])\n",
    "principalDf\n",
    "\n",
    "pca.explained_variance_ratio_  # PCA1,PCA2 2개의 성분으로 cover하고 있는 설명력 확인\n",
    "\n",
    "# 두 PCA1,PCA2 변수를 추가하고 사용한 변수는 제거한다.\n",
    "df.insert(0,\"PCA_2\",principalDf.PCA_2,True) \n",
    "df.insert(0,\"PCA_1\",principalDf.PCA_1,True)\n",
    "df = df.drop(col_PCA,axis=1)\n",
    "df.info()"
   ]
  },
  {
   "cell_type": "markdown",
   "metadata": {
    "id": "mbdBY8aA8SER"
   },
   "source": [
    "4. Data Filtering\n",
    "  - Data type 확인(수치형 <> 범주형)\n",
    "  - 중복 데이터 확인\n",
    "  - 결측치 제거 및 중위값 대체\n",
    "  - outlier 처리\n",
    "  - 범주형 : one-hot encoding"
   ]
  },
  {
   "cell_type": "markdown",
   "metadata": {},
   "source": [
    "년도, 시간 -> data type으로 합쳐"
   ]
  },
  {
   "cell_type": "code",
   "execution_count": null,
   "metadata": {
    "id": "Ymd3rDJyCezI"
   },
   "outputs": [],
   "source": [
    "# 1. null값들의 존재 유무 및 그 비율 확인\n",
    "for column in df.columns:\n",
    "  if df[column].isna().sum()!=0:\n",
    "    missing = df[column].isna().sum()\n",
    "    portion = (missing/df.shape[0])*100\n",
    "    print(f\"'{column}':number of missing value '{missing}' ==> '{portion:.3f}%'\")\n",
    "print('==========================================')\n",
    "\n",
    "# 2. column마다의 null 갯수\n",
    "data.isnull().sum()\n",
    "\n",
    "# 3. null 유무 확인 (T/F)\n",
    "df.isnull().values.any()\n",
    "\n",
    "## null 비율이 큰 변수는 제거하고 작은 변수는 최빈값으로 대체\n",
    "mode = df['A'].value_counts().index[0]\n",
    "df['A'] = df['A'].fillna(mode)\n",
    "df['B'] = df['B'].replace('-',mode)\n",
    "\n",
    "## null인 값을 정교하게 예측해서 값을 대체할 수도 있음 <자료 참고>\n"
   ]
  },
  {
   "cell_type": "code",
   "execution_count": null,
   "metadata": {
    "id": "F9t4itnZD0p2"
   },
   "outputs": [],
   "source": [
    "# 중복되는 데이터가 존재하는 확인\n",
    "print(f\"Data shape:{df.shape}\")\n",
    "df.drop_duplicates(inplace=True)\n",
    "print(f\"Data shape:{df.shape}\")\n",
    "print('==========================================')\n",
    "\n",
    "# 중복 유무 확인\n",
    "df.duplicated().any()"
   ]
  },
  {
   "cell_type": "code",
   "execution_count": null,
   "metadata": {
    "id": "_Q8ivhE_D0mk"
   },
   "outputs": [],
   "source": [
    "# 1%의 이상치 제거\n",
    "df = df.loc[np.where(df['A'] < df['A'].quantile(0.99))] # 변수A에 대해선 큰값 1% 제거\n",
    "df.reset_index(drop=True, inplace= True)\n",
    "\n",
    "df = df.loc[np.where(df['B'] > df['B'].quantile(0.01))]  # 변수B에 대해선 작은 값 1% 제거\n",
    "df.reset_index(drop=True, inplace= True)\n",
    "\n",
    "df.info()\n"
   ]
  },
  {
   "cell_type": "markdown",
   "metadata": {
    "id": "lYBexMQ1CfOp"
   },
   "source": [
    "5. 범주형 변수 : One-hot encoding"
   ]
  },
  {
   "cell_type": "code",
   "execution_count": null,
   "metadata": {},
   "outputs": [],
   "source": [
    "# Categorical features 파악\n",
    "for column in df.columns:\n",
    "    if df[column].dtype == object:\n",
    "        print(column)\n",
    "        print(df[column].unique())\n",
    "        print(\"\")\n",
    "\n",
    "# one-hot encoding\n",
    "onehot = pd.get_dummies(df[CATEGORICAL], drop_first=False)"
   ]
  },
  {
   "cell_type": "markdown",
   "metadata": {},
   "source": [
    "6. Scaling"
   ]
  },
  {
   "cell_type": "code",
   "execution_count": null,
   "metadata": {},
   "outputs": [],
   "source": [
    "## 스케일링 함수\n",
    "def z_normalize (train, list): # 대상이 될 dataset과 feature list를 받으면 normalization 해주는 함수. 이때 사용된 평균과 표준편차를 함께 return한다.\n",
    "    data=train.loc[:, list]\n",
    "    mean=data.mean()  # mean 저장\n",
    "    std=data.std()    # standard deviation 저장\n",
    "    data=(data-mean)/std  # normalization\n",
    "    return data, [mean,std]\n",
    "\n",
    "def minmax_scale (train, list):\n",
    "    data=train.loc[:, list]\n",
    "    min=data.min()    # min 저장\n",
    "    max=data.max()    # max 저장\n",
    "    data=(data-min)/(max-min)  # scale\n",
    "    return data, [min,max]\n"
   ]
  },
  {
   "cell_type": "code",
   "execution_count": null,
   "metadata": {
    "id": "rWZMEuYC8jEL"
   },
   "outputs": [],
   "source": []
  },
  {
   "cell_type": "code",
   "execution_count": null,
   "metadata": {
    "id": "42SGUkdB1vI9"
   },
   "outputs": [],
   "source": []
  },
  {
   "cell_type": "code",
   "execution_count": null,
   "metadata": {
    "id": "BVpKG6P_1zPb"
   },
   "outputs": [],
   "source": []
  },
  {
   "cell_type": "code",
   "execution_count": null,
   "metadata": {
    "id": "qp3OZDiL1zRj"
   },
   "outputs": [],
   "source": []
  },
  {
   "cell_type": "code",
   "execution_count": null,
   "metadata": {
    "id": "QtjlHXSU1zTy"
   },
   "outputs": [],
   "source": []
  },
  {
   "cell_type": "code",
   "execution_count": null,
   "metadata": {
    "id": "Lh2CXCPe1zWv"
   },
   "outputs": [],
   "source": []
  },
  {
   "cell_type": "code",
   "execution_count": null,
   "metadata": {
    "id": "u6DT29gK1zaA"
   },
   "outputs": [],
   "source": []
  }
 ],
 "metadata": {
  "colab": {
   "provenance": [],
   "toc_visible": true
  },
  "kernelspec": {
   "display_name": "Python 3 (ipykernel)",
   "language": "python",
   "name": "python3"
  },
  "language_info": {
   "codemirror_mode": {
    "name": "ipython",
    "version": 3
   },
   "file_extension": ".py",
   "mimetype": "text/x-python",
   "name": "python",
   "nbconvert_exporter": "python",
   "pygments_lexer": "ipython3",
   "version": "3.8.3"
  }
 },
 "nbformat": 4,
 "nbformat_minor": 1
}
