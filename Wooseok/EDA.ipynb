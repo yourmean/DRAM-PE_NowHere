{
  "nbformat": 4,
  "nbformat_minor": 0,
  "metadata": {
    "colab": {
      "provenance": [],
      "toc_visible": true
    },
    "kernelspec": {
      "name": "python3",
      "display_name": "Python 3"
    },
    "language_info": {
      "name": "python"
    }
  },
  "cells": [
    {
      "cell_type": "markdown",
      "source": [
        "#EDA Process\n",
        "EDA : Exploratory Data Analysis 탐색적 데이터 분석\n",
        "\n",
        "\n",
        "------------------------------------------------------------------------------\n",
        "\n",
        "1. 시각화를 통한 패턴 발견\n",
        "  - histogram, pie-chart, boxplot, qqplot(분포) 등\n",
        "\n",
        "2. Summary Statistics : 데이터 분포 및 특이성 확인\n",
        "  -  mean, sd, skewness, kurtosis, outliers, frequency 등\n",
        "\n",
        "3. 독립변수 선정\n",
        "  - 데이터 해석 상의 배경지식 반영\n",
        "  - 상관성 높은 변수 제거 \n",
        "  - 차원 축소 (설명력 높은 수준의 PCA)\n",
        "\n",
        "4. Data Filtering\n",
        "  - Data type 확인(수치형 <> 범주형)\n",
        "  - 결측치 제거 및 중위값 대체\n",
        "  - outlier 처리\n",
        "  - 범주형 : one-hot encoding\n",
        "\n",
        "5. Scaling\n",
        "  - z-normalize, MinMax\n",
        "\n",
        "6. Target variabla가 정규분포를 따르는지\n",
        "\n",
        "\n",
        "------------------------------------------------------------------------------\n",
        "\n"
      ],
      "metadata": {
        "id": "d-lj8Q3o16qP"
      }
    },
    {
      "cell_type": "markdown",
      "source": [],
      "metadata": {
        "id": "1UwPzrFIEewA"
      }
    },
    {
      "cell_type": "markdown",
      "source": [],
      "metadata": {
        "id": "CDa-9RiCEemM"
      }
    },
    {
      "cell_type": "code",
      "source": [],
      "metadata": {
        "id": "vPkf6HhE8vxE"
      },
      "execution_count": null,
      "outputs": []
    },
    {
      "cell_type": "markdown",
      "source": [
        "1. 시각화를 통한 패턴 발견\n",
        "  - histogram, pie-chart, boxplot, qqplot(분포) 등\n"
      ],
      "metadata": {
        "id": "splLRGr716Lo"
      }
    },
    {
      "cell_type": "markdown",
      "source": [
        "2. Summary Statistics : 데이터 분포 및 특이성 확인\n",
        "  -  mean, sd, skewness, kurtosis, outliers, frequency 등"
      ],
      "metadata": {
        "id": "V57McMy08SWz"
      }
    },
    {
      "cell_type": "code",
      "source": [
        "df.head(n) # DataFrame 형태로 데이터 상위 n개 확인\n",
        "\n",
        "df.info() # class, Column별 데이터 갯수 및 type 확인\n"
      ],
      "metadata": {
        "id": "Mm4nJjTT89fW"
      },
      "execution_count": null,
      "outputs": []
    },
    {
      "cell_type": "markdown",
      "source": [
        "3. 독립변수 선정\n",
        "  - 데이터 해석 상의 배경지식 반영\n",
        "  - 상관성 높은 변수 제거 \n",
        "  - 차원 축소 (설명력 높은 수준의 PCA)"
      ],
      "metadata": {
        "id": "_1FXL-2E8SQE"
      }
    },
    {
      "cell_type": "code",
      "source": [
        "## PCA\n",
        "# 각 변수들간의 상관관계 파악, 시각화\n",
        "import matplotlib.pyplot as plt\n",
        "import seaborn as sns\n",
        "import numpy as np\n",
        "\n",
        "plt.figure(figsize=(12, 8))\n",
        "sns.heatmap(df.corr(), annot=True, cmap='viridis')  # 변수간 상관관계 corr()\n",
        "\n",
        "# PCA\n",
        "from sklearn.preprocessing import StandardScaler\n",
        "from sklearn.decomposition import PCA\n",
        "\n",
        "# 0.9 이상의 강한 상관관계가 있는 변수들(A~Z)을 선형변환을 통해 차원 축소\n",
        "col_PCA = ['A,B...,Z']\n",
        "x = df[col_PCA]\n",
        "\n",
        "scaler = StandardScaler()\n",
        "scaler.fit(x)\n",
        "scaled_X_train = scaler.transform(x)\n",
        "\n",
        "pca = PCA(n_components=2) #PCA 객체 생성 (주성분 갯수 2개 생성)\n",
        "pca.fit(scaled_X_train)\n",
        "principalComponents = pca.transform(scaled_X_train)\n",
        "principalDf = pd.DataFrame(data = principalComponents, columns = ['PCA_1', 'PCA_2'])\n",
        "principalDf\n",
        "\n",
        "pca.explained_variance_ratio_  # PCA1,PCA2 2개의 성분으로 cover하고 있는 설명력 확인\n",
        "\n",
        "# 두 PCA1,PCA2 변수를 추가하고 사용한 변수는 제거한다.\n",
        "df.insert(0,\"PCA_2\",principalDf.PCA_2,True) \n",
        "df.insert(0,\"PCA_1\",principalDf.PCA_1,True)\n",
        "df = df.drop(col_PCA,axis=1)\n",
        "df.info()"
      ],
      "metadata": {
        "id": "3lOqbzUnCeeG"
      },
      "execution_count": null,
      "outputs": []
    },
    {
      "cell_type": "markdown",
      "source": [
        "4. Data Filtering\n",
        "  - Data type 확인(수치형 <> 범주형)\n",
        "  - 중복 데이터 확인\n",
        "  - 결측치 제거 및 중위값 대체\n",
        "  - outlier 처리\n",
        "  - 범주형 : one-hot encoding"
      ],
      "metadata": {
        "id": "mbdBY8aA8SER"
      }
    },
    {
      "cell_type": "code",
      "source": [
        "# 1. null값들의 존재 유무 및 그 비율 확인\n",
        "for column in df.columns:\n",
        "  if df[column].isna().sum()!=0:\n",
        "    missing = df[column].isna().sum()\n",
        "    portion = (missing/df.shape[0])*100\n",
        "    print(f\"'{column}':number of missing value '{missing}' ==> '{portion:.3f}%'\")\n",
        "print('==========================================')\n",
        "\n",
        "# 2. column마다의 null 갯수\n",
        "data.isnull().sum()\n",
        "\n"
      ],
      "metadata": {
        "id": "Ymd3rDJyCezI"
      },
      "execution_count": null,
      "outputs": []
    },
    {
      "cell_type": "code",
      "source": [
        "# 중복되는 데이터가 존재하는 확인\n",
        "print(f\"Data shape:{df.shape}\")\n",
        "df.drop_duplicates(inplace=True)\n",
        "print(f\"Data shape:{df.shape}\")\n",
        "print('==========================================')"
      ],
      "metadata": {
        "id": "F9t4itnZD0p2"
      },
      "execution_count": null,
      "outputs": []
    },
    {
      "cell_type": "code",
      "source": [],
      "metadata": {
        "id": "_Q8ivhE_D0mk"
      },
      "execution_count": null,
      "outputs": []
    },
    {
      "cell_type": "markdown",
      "source": [
        "5. Scaling\n",
        "  - z-normalize, MinMax"
      ],
      "metadata": {
        "id": "nXy3X64i8hZb"
      }
    },
    {
      "cell_type": "code",
      "source": [],
      "metadata": {
        "id": "lYBexMQ1CfOp"
      },
      "execution_count": null,
      "outputs": []
    },
    {
      "cell_type": "markdown",
      "source": [
        "6. Target variabla가 정규분포를 따르는지"
      ],
      "metadata": {
        "id": "8f16qdm18lOq"
      }
    },
    {
      "cell_type": "code",
      "source": [],
      "metadata": {
        "id": "rWZMEuYC8jEL"
      },
      "execution_count": null,
      "outputs": []
    },
    {
      "cell_type": "code",
      "execution_count": null,
      "metadata": {
        "id": "42SGUkdB1vI9"
      },
      "outputs": [],
      "source": []
    },
    {
      "cell_type": "code",
      "source": [],
      "metadata": {
        "id": "BVpKG6P_1zPb"
      },
      "execution_count": null,
      "outputs": []
    },
    {
      "cell_type": "code",
      "source": [],
      "metadata": {
        "id": "qp3OZDiL1zRj"
      },
      "execution_count": null,
      "outputs": []
    },
    {
      "cell_type": "code",
      "source": [],
      "metadata": {
        "id": "QtjlHXSU1zTy"
      },
      "execution_count": null,
      "outputs": []
    },
    {
      "cell_type": "code",
      "source": [],
      "metadata": {
        "id": "Lh2CXCPe1zWv"
      },
      "execution_count": null,
      "outputs": []
    },
    {
      "cell_type": "code",
      "source": [],
      "metadata": {
        "id": "u6DT29gK1zaA"
      },
      "execution_count": null,
      "outputs": []
    }
  ]
}
